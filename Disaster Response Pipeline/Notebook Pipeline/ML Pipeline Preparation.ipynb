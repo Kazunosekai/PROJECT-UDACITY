{
 "cells": [
  {
   "cell_type": "markdown",
   "metadata": {},
   "source": [
    "# DISASTER RESPONSE PIPELINE\n",
    "\n",
    "## ML Pipeline Preparation\n",
    "Follow the instructions below to help you create your ML pipeline.\n",
    "### 1. Import libraries and load data from database.\n",
    "- Import Python libraries\n",
    "- Load dataset from database with [`read_sql_table`](https://pandas.pydata.org/pandas-docs/stable/generated/pandas.read_sql_table.html)\n",
    "- Define feature and target variables X and Y"
   ]
  },
  {
   "cell_type": "code",
   "execution_count": 1,
   "metadata": {},
   "outputs": [
    {
     "name": "stdout",
     "output_type": "stream",
     "text": [
      "[nltk_data] Downloading package punkt to /root/nltk_data...\n",
      "[nltk_data]   Unzipping tokenizers/punkt.zip.\n",
      "[nltk_data] Downloading package wordnet to /root/nltk_data...\n",
      "[nltk_data] Downloading package stopwords to /root/nltk_data...\n",
      "[nltk_data]   Unzipping corpora/stopwords.zip.\n",
      "[nltk_data] Downloading package averaged_perceptron_tagger to\n",
      "[nltk_data]     /root/nltk_data...\n",
      "[nltk_data]   Unzipping taggers/averaged_perceptron_tagger.zip.\n"
     ]
    }
   ],
   "source": [
    "# import libraries\n",
    "\n",
    "from sqlalchemy import create_engine\n",
    "import nltk\n",
    "nltk.download(['punkt', 'wordnet','stopwords','averaged_perceptron_tagger'])\n",
    "from nltk.corpus import stopwords\n",
    "from nltk.tokenize import word_tokenize\n",
    "from nltk.stem import WordNetLemmatizer\n",
    "\n",
    "import numpy as np\n",
    "import pandas as pd\n",
    "pd.set_option('display.max_columns', 500)\n",
    "\n",
    "import sys\n",
    "import re\n",
    "from sqlalchemy import create_engine\n",
    "import pickle\n",
    "\n",
    "\n",
    "# import relevant functions/modules from the sklearn\n",
    "from sklearn.pipeline import Pipeline\n",
    "from sklearn.model_selection import train_test_split, GridSearchCV\n",
    "from sklearn.metrics import confusion_matrix, classification_report\n",
    "from sklearn.multiclass import OneVsRestClassifier\n",
    "from sklearn.svm import LinearSVC\n",
    "from sklearn.feature_extraction.text import CountVectorizer, TfidfTransformer\n",
    "from sklearn.multioutput import MultiOutputClassifier"
   ]
  },
  {
   "cell_type": "code",
   "execution_count": 2,
   "metadata": {},
   "outputs": [],
   "source": [
    "# load data from database\n",
    "database_filepath = 'DisasterResponse.db'\n",
    "engine = create_engine('sqlite:///'+ database_filepath)\n",
    "df_data = pd.read_sql_table('DisasterResponse', engine)\n",
    "\n",
    "# Remove child alone as it has all zeros only\n",
    "df_data = df_data.drop(['child_alone'],axis=1)\n",
    "\n",
    "# Given value 2 in the related field are neglible so it could be error. Replacing 2 with 1 to consider it a valid response\n",
    "# Alternatively, we could have assumed it to be 0 also. In the absence of information I have gone with majority class\n",
    "df_data['related']=df_data['related'].map(lambda x: 1 if x == 2 else x)\n",
    "\n",
    "X = df_data.message\n",
    "y = df_data[df_data.columns[4:]]\n",
    "category_names = y.columns"
   ]
  },
  {
   "cell_type": "markdown",
   "metadata": {},
   "source": [
    "### 2. Write a tokenization function to process your text data"
   ]
  },
  {
   "cell_type": "code",
   "execution_count": 3,
   "metadata": {},
   "outputs": [],
   "source": [
    "def tokenize(text,url_place_holder_string=\"urlplaceholder\"):\n",
    "    # Replace all urls with a urlplaceholder string\n",
    "    url_regex = 'http[s]?://(?:[a-zA-Z]|[0-9]|[$-_@.&+]|[!*\\(\\),]|(?:%[0-9a-fA-F][0-9a-fA-F]))+'\n",
    "    \n",
    "    # detect all URL present in the messages\n",
    "    detected_urls = re.findall(url_regex, text)\n",
    "    \n",
    "    # replace URL with \"urlplaceholder\"    \n",
    "    for detected_url in detected_urls:\n",
    "        text = text.replace(detected_url, url_place_holder_string)\n",
    "                \n",
    "    # Extract the word tokens from the provided text\n",
    "    tokens = nltk.word_tokenize(text)\n",
    "    \n",
    "    # Remove stop words\n",
    "    stop_words = stopwords.words(\"english\")\n",
    "    tokens = [tok for tok in tokens if tok not in stop_words]\n",
    "     \n",
    "    #Lemmanitizer to remove inflectional and derivationally related forms of a word    \n",
    "    lemmatizer = nltk.WordNetLemmatizer()\n",
    "\n",
    "    # List of clean tokens\n",
    "    clean_tokens = [lemmatizer.lemmatize(w).lower().strip() for w in tokens]\n",
    "    return clean_tokens"
   ]
  },
  {
   "cell_type": "markdown",
   "metadata": {},
   "source": [
    "### 3. Build a machine learning pipeline\n",
    "This machine pipeline should take in the `message` column as input and output classification results on the other 36 categories in the dataset. You may find the [MultiOutputClassifier](http://scikit-learn.org/stable/modules/generated/sklearn.multioutput.MultiOutputClassifier.html) helpful for predicting multiple target variables."
   ]
  },
  {
   "cell_type": "code",
   "execution_count": 4,
   "metadata": {},
   "outputs": [],
   "source": [
    "pipeline = Pipeline([\n",
    "    ('cvect', CountVectorizer(tokenizer=tokenize)),\n",
    "    ('tfidf', TfidfTransformer()),\n",
    "    ('clf', MultiOutputClassifier(OneVsRestClassifier(LinearSVC())))])"
   ]
  },
  {
   "cell_type": "markdown",
   "metadata": {},
   "source": [
    "### 4. Train pipeline\n",
    "- Split data into train and test sets\n",
    "- Train pipeline"
   ]
  },
  {
   "cell_type": "code",
   "execution_count": 5,
   "metadata": {},
   "outputs": [
    {
     "data": {
      "text/plain": [
       "Pipeline(memory=None,\n",
       "     steps=[('cvect', CountVectorizer(analyzer='word', binary=False, decode_error='strict',\n",
       "        dtype=<class 'numpy.int64'>, encoding='utf-8', input='content',\n",
       "        lowercase=True, max_df=1.0, max_features=None, min_df=1,\n",
       "        ngram_range=(1, 1), preprocessor=None, stop_words=None,\n",
       "        stri...ty='l2', random_state=None, tol=0.0001,\n",
       "     verbose=0),\n",
       "          n_jobs=1),\n",
       "           n_jobs=1))])"
      ]
     },
     "execution_count": 5,
     "metadata": {},
     "output_type": "execute_result"
    }
   ],
   "source": [
    "X_train, X_test, y_train, y_test = train_test_split(X, y, test_size=0.2)\n",
    "pipeline.fit(X_train, y_train)"
   ]
  },
  {
   "cell_type": "markdown",
   "metadata": {},
   "source": [
    "### 5. Test your model\n",
    "Report the f1 score, precision and recall for each output category of the dataset. You can do this by iterating through the columns and calling sklearn's `classification_report` on each."
   ]
  },
  {
   "cell_type": "code",
   "execution_count": 6,
   "metadata": {},
   "outputs": [
    {
     "name": "stdout",
     "output_type": "stream",
     "text": [
      "                        precision    recall  f1-score   support\n",
      "\n",
      "               related       0.87      0.91      0.89      4046\n",
      "               request       0.74      0.61      0.67       892\n",
      "                 offer       0.00      0.00      0.00        28\n",
      "           aid_related       0.73      0.68      0.71      2199\n",
      "          medical_help       0.58      0.26      0.36       409\n",
      "      medical_products       0.67      0.26      0.37       279\n",
      "     search_and_rescue       0.73      0.14      0.24       154\n",
      "              security       0.57      0.04      0.07       111\n",
      "              military       0.56      0.29      0.38       171\n",
      "                 water       0.73      0.60      0.66       345\n",
      "                  food       0.83      0.69      0.76       598\n",
      "               shelter       0.75      0.53      0.62       447\n",
      "              clothing       0.80      0.38      0.52        87\n",
      "                 money       0.64      0.23      0.34       125\n",
      "        missing_people       0.67      0.15      0.24        54\n",
      "              refugees       0.57      0.27      0.37       159\n",
      "                 death       0.78      0.44      0.56       264\n",
      "             other_aid       0.46      0.19      0.27       714\n",
      "infrastructure_related       0.33      0.08      0.13       340\n",
      "             transport       0.69      0.21      0.32       230\n",
      "             buildings       0.67      0.36      0.47       254\n",
      "           electricity       0.61      0.19      0.29       106\n",
      "                 tools       0.00      0.00      0.00        32\n",
      "             hospitals       0.83      0.08      0.15        59\n",
      "                 shops       0.00      0.00      0.00        24\n",
      "           aid_centers       0.00      0.00      0.00        55\n",
      "  other_infrastructure       0.41      0.07      0.11       225\n",
      "       weather_related       0.81      0.69      0.74      1501\n",
      "                floods       0.87      0.52      0.66       425\n",
      "                 storm       0.71      0.55      0.62       494\n",
      "                  fire       0.67      0.22      0.33        54\n",
      "            earthquake       0.90      0.72      0.80       539\n",
      "                  cold       0.76      0.30      0.43       103\n",
      "         other_weather       0.48      0.16      0.24       293\n",
      "         direct_report       0.68      0.51      0.58      1014\n",
      "\n",
      "           avg / total       0.74      0.59      0.64     16830\n",
      "\n",
      "Accuracy: 0.946856271112564\n"
     ]
    },
    {
     "name": "stderr",
     "output_type": "stream",
     "text": [
      "/opt/conda/lib/python3.6/site-packages/sklearn/metrics/classification.py:1135: UndefinedMetricWarning: Precision and F-score are ill-defined and being set to 0.0 in labels with no predicted samples.\n",
      "  'precision', 'predicted', average, warn_for)\n"
     ]
    }
   ],
   "source": [
    "y_pred = pipeline.predict(X_test) # predict\n",
    "class_report = classification_report(y_test, y_pred, target_names=category_names) # print classification report\n",
    "print(class_report)\n",
    "print('Accuracy: {}'.format(np.mean(y_test.values == y_pred))) # print accuracy score"
   ]
  },
  {
   "cell_type": "markdown",
   "metadata": {},
   "source": [
    "### 6. Improve your model\n",
    "Use grid search to find better parameters. "
   ]
  },
  {
   "cell_type": "code",
   "execution_count": 7,
   "metadata": {},
   "outputs": [
    {
     "data": {
      "text/plain": [
       "{'memory': None,\n",
       " 'steps': [('cvect',\n",
       "   CountVectorizer(analyzer='word', binary=False, decode_error='strict',\n",
       "           dtype=<class 'numpy.int64'>, encoding='utf-8', input='content',\n",
       "           lowercase=True, max_df=1.0, max_features=None, min_df=1,\n",
       "           ngram_range=(1, 1), preprocessor=None, stop_words=None,\n",
       "           strip_accents=None, token_pattern='(?u)\\\\b\\\\w\\\\w+\\\\b',\n",
       "           tokenizer=<function tokenize at 0x7f7ed6bbe730>, vocabulary=None)),\n",
       "  ('tfidf',\n",
       "   TfidfTransformer(norm='l2', smooth_idf=True, sublinear_tf=False, use_idf=True)),\n",
       "  ('clf',\n",
       "   MultiOutputClassifier(estimator=OneVsRestClassifier(estimator=LinearSVC(C=1.0, class_weight=None, dual=True, fit_intercept=True,\n",
       "        intercept_scaling=1, loss='squared_hinge', max_iter=1000,\n",
       "        multi_class='ovr', penalty='l2', random_state=None, tol=0.0001,\n",
       "        verbose=0),\n",
       "             n_jobs=1),\n",
       "              n_jobs=1))],\n",
       " 'cvect': CountVectorizer(analyzer='word', binary=False, decode_error='strict',\n",
       "         dtype=<class 'numpy.int64'>, encoding='utf-8', input='content',\n",
       "         lowercase=True, max_df=1.0, max_features=None, min_df=1,\n",
       "         ngram_range=(1, 1), preprocessor=None, stop_words=None,\n",
       "         strip_accents=None, token_pattern='(?u)\\\\b\\\\w\\\\w+\\\\b',\n",
       "         tokenizer=<function tokenize at 0x7f7ed6bbe730>, vocabulary=None),\n",
       " 'tfidf': TfidfTransformer(norm='l2', smooth_idf=True, sublinear_tf=False, use_idf=True),\n",
       " 'clf': MultiOutputClassifier(estimator=OneVsRestClassifier(estimator=LinearSVC(C=1.0, class_weight=None, dual=True, fit_intercept=True,\n",
       "      intercept_scaling=1, loss='squared_hinge', max_iter=1000,\n",
       "      multi_class='ovr', penalty='l2', random_state=None, tol=0.0001,\n",
       "      verbose=0),\n",
       "           n_jobs=1),\n",
       "            n_jobs=1),\n",
       " 'cvect__analyzer': 'word',\n",
       " 'cvect__binary': False,\n",
       " 'cvect__decode_error': 'strict',\n",
       " 'cvect__dtype': numpy.int64,\n",
       " 'cvect__encoding': 'utf-8',\n",
       " 'cvect__input': 'content',\n",
       " 'cvect__lowercase': True,\n",
       " 'cvect__max_df': 1.0,\n",
       " 'cvect__max_features': None,\n",
       " 'cvect__min_df': 1,\n",
       " 'cvect__ngram_range': (1, 1),\n",
       " 'cvect__preprocessor': None,\n",
       " 'cvect__stop_words': None,\n",
       " 'cvect__strip_accents': None,\n",
       " 'cvect__token_pattern': '(?u)\\\\b\\\\w\\\\w+\\\\b',\n",
       " 'cvect__tokenizer': <function __main__.tokenize(text, url_place_holder_string='urlplaceholder')>,\n",
       " 'cvect__vocabulary': None,\n",
       " 'tfidf__norm': 'l2',\n",
       " 'tfidf__smooth_idf': True,\n",
       " 'tfidf__sublinear_tf': False,\n",
       " 'tfidf__use_idf': True,\n",
       " 'clf__estimator__estimator__C': 1.0,\n",
       " 'clf__estimator__estimator__class_weight': None,\n",
       " 'clf__estimator__estimator__dual': True,\n",
       " 'clf__estimator__estimator__fit_intercept': True,\n",
       " 'clf__estimator__estimator__intercept_scaling': 1,\n",
       " 'clf__estimator__estimator__loss': 'squared_hinge',\n",
       " 'clf__estimator__estimator__max_iter': 1000,\n",
       " 'clf__estimator__estimator__multi_class': 'ovr',\n",
       " 'clf__estimator__estimator__penalty': 'l2',\n",
       " 'clf__estimator__estimator__random_state': None,\n",
       " 'clf__estimator__estimator__tol': 0.0001,\n",
       " 'clf__estimator__estimator__verbose': 0,\n",
       " 'clf__estimator__estimator': LinearSVC(C=1.0, class_weight=None, dual=True, fit_intercept=True,\n",
       "      intercept_scaling=1, loss='squared_hinge', max_iter=1000,\n",
       "      multi_class='ovr', penalty='l2', random_state=None, tol=0.0001,\n",
       "      verbose=0),\n",
       " 'clf__estimator__n_jobs': 1,\n",
       " 'clf__estimator': OneVsRestClassifier(estimator=LinearSVC(C=1.0, class_weight=None, dual=True, fit_intercept=True,\n",
       "      intercept_scaling=1, loss='squared_hinge', max_iter=1000,\n",
       "      multi_class='ovr', penalty='l2', random_state=None, tol=0.0001,\n",
       "      verbose=0),\n",
       "           n_jobs=1),\n",
       " 'clf__n_jobs': 1}"
      ]
     },
     "execution_count": 7,
     "metadata": {},
     "output_type": "execute_result"
    }
   ],
   "source": [
    "pipeline.get_params()"
   ]
  },
  {
   "cell_type": "code",
   "execution_count": 8,
   "metadata": {},
   "outputs": [
    {
     "name": "stdout",
     "output_type": "stream",
     "text": [
      "Fitting 3 folds for each of 4 candidates, totalling 12 fits\n",
      "[CV] cvect__max_df=0.75, cvect__ngram_range=(1, 1) ...................\n",
      "[CV]  cvect__max_df=0.75, cvect__ngram_range=(1, 1), score=0.2792161350307538, total=  17.3s\n",
      "[CV] cvect__max_df=0.75, cvect__ngram_range=(1, 1) ...................\n"
     ]
    },
    {
     "name": "stderr",
     "output_type": "stream",
     "text": [
      "[Parallel(n_jobs=1)]: Done   1 out of   1 | elapsed:   27.5s remaining:    0.0s\n"
     ]
    },
    {
     "name": "stdout",
     "output_type": "stream",
     "text": [
      "[CV]  cvect__max_df=0.75, cvect__ngram_range=(1, 1), score=0.27320841081390357, total=  17.3s\n",
      "[CV] cvect__max_df=0.75, cvect__ngram_range=(1, 1) ...................\n"
     ]
    },
    {
     "name": "stderr",
     "output_type": "stream",
     "text": [
      "[Parallel(n_jobs=1)]: Done   2 out of   2 | elapsed:   54.9s remaining:    0.0s\n"
     ]
    },
    {
     "name": "stdout",
     "output_type": "stream",
     "text": [
      "[CV]  cvect__max_df=0.75, cvect__ngram_range=(1, 1), score=0.2822603719599428, total=  17.4s\n",
      "[CV] cvect__max_df=0.75, cvect__ngram_range=(1, 2) ...................\n",
      "[CV]  cvect__max_df=0.75, cvect__ngram_range=(1, 2), score=0.2773566013445859, total=  21.2s\n",
      "[CV] cvect__max_df=0.75, cvect__ngram_range=(1, 2) ...................\n",
      "[CV]  cvect__max_df=0.75, cvect__ngram_range=(1, 2), score=0.28107566871692174, total=  21.0s\n",
      "[CV] cvect__max_df=0.75, cvect__ngram_range=(1, 2) ...................\n",
      "[CV]  cvect__max_df=0.75, cvect__ngram_range=(1, 2), score=0.28526466380543636, total=  21.0s\n",
      "[CV] cvect__max_df=1.0, cvect__ngram_range=(1, 1) ....................\n",
      "[CV]  cvect__max_df=1.0, cvect__ngram_range=(1, 1), score=0.2780718066084966, total=  17.6s\n",
      "[CV] cvect__max_df=1.0, cvect__ngram_range=(1, 1) ....................\n",
      "[CV]  cvect__max_df=1.0, cvect__ngram_range=(1, 1), score=0.27406665713059647, total=  17.5s\n",
      "[CV] cvect__max_df=1.0, cvect__ngram_range=(1, 1) ....................\n",
      "[CV]  cvect__max_df=1.0, cvect__ngram_range=(1, 1), score=0.28125894134477825, total=  17.4s\n",
      "[CV] cvect__max_df=1.0, cvect__ngram_range=(1, 2) ....................\n",
      "[CV]  cvect__max_df=1.0, cvect__ngram_range=(1, 2), score=0.27606923186954657, total=  21.0s\n",
      "[CV] cvect__max_df=1.0, cvect__ngram_range=(1, 2) ....................\n",
      "[CV]  cvect__max_df=1.0, cvect__ngram_range=(1, 2), score=0.2797882992418824, total=  21.4s\n",
      "[CV] cvect__max_df=1.0, cvect__ngram_range=(1, 2) ....................\n",
      "[CV]  cvect__max_df=1.0, cvect__ngram_range=(1, 2), score=0.28340486409155935, total=  21.1s\n"
     ]
    },
    {
     "name": "stderr",
     "output_type": "stream",
     "text": [
      "[Parallel(n_jobs=1)]: Done  12 out of  12 | elapsed:  5.9min finished\n"
     ]
    },
    {
     "data": {
      "text/plain": [
       "GridSearchCV(cv=3, error_score='raise',\n",
       "       estimator=Pipeline(memory=None,\n",
       "     steps=[('cvect', CountVectorizer(analyzer='word', binary=False, decode_error='strict',\n",
       "        dtype=<class 'numpy.int64'>, encoding='utf-8', input='content',\n",
       "        lowercase=True, max_df=1.0, max_features=None, min_df=1,\n",
       "        ngram_range=(1, 1), preprocessor=None, stop_words=None,\n",
       "        stri...ty='l2', random_state=None, tol=0.0001,\n",
       "     verbose=0),\n",
       "          n_jobs=1),\n",
       "           n_jobs=1))]),\n",
       "       fit_params=None, iid=True, n_jobs=1,\n",
       "       param_grid={'cvect__ngram_range': ((1, 1), (1, 2)), 'cvect__max_df': (0.75, 1.0)},\n",
       "       pre_dispatch='2*n_jobs', refit=True, return_train_score='warn',\n",
       "       scoring=None, verbose=3)"
      ]
     },
     "execution_count": 8,
     "metadata": {},
     "output_type": "execute_result"
    }
   ],
   "source": [
    "#model parameters for GridSearchCV\n",
    "parameters = {'cvect__ngram_range': ((1, 1), (1, 2)),\n",
    "                  'cvect__max_df': (0.75, 1.0)\n",
    "                  }\n",
    "\n",
    "cv = GridSearchCV(estimator=pipeline,\n",
    "            param_grid=parameters,\n",
    "            verbose=3,\n",
    "            cv=3)\n",
    "cv.fit(X_train, y_train)"
   ]
  },
  {
   "cell_type": "code",
   "execution_count": 10,
   "metadata": {},
   "outputs": [],
   "source": [
    "# Get the prediction values from the grid search cross validator\n",
    "y_test = cv.predict(X_test)\n",
    "y_train = cv.predict(X_train)"
   ]
  },
  {
   "cell_type": "code",
   "execution_count": 11,
   "metadata": {},
   "outputs": [
    {
     "name": "stdout",
     "output_type": "stream",
     "text": [
      "{'cvect__max_df': 0.75, 'cvect__ngram_range': (1, 2)}\n"
     ]
    }
   ],
   "source": [
    "#finding the best paramesters based on grip search\n",
    "print(cv.best_params_)"
   ]
  },
  {
   "cell_type": "code",
   "execution_count": 12,
   "metadata": {},
   "outputs": [
    {
     "name": "stdout",
     "output_type": "stream",
     "text": [
      "Pipeline(memory=None,\n",
      "     steps=[('cvect', CountVectorizer(analyzer='word', binary=False, decode_error='strict',\n",
      "        dtype=<class 'numpy.int64'>, encoding='utf-8', input='content',\n",
      "        lowercase=True, max_df=0.75, max_features=None, min_df=1,\n",
      "        ngram_range=(1, 2), preprocessor=None, stop_words=None,\n",
      "        str...ty='l2', random_state=None, tol=0.0001,\n",
      "     verbose=0),\n",
      "          n_jobs=1),\n",
      "           n_jobs=1))])\n"
     ]
    }
   ],
   "source": [
    "#building new model\n",
    "optimised_model = cv.best_estimator_\n",
    "print (cv.best_estimator_)"
   ]
  },
  {
   "cell_type": "markdown",
   "metadata": {},
   "source": [
    "### 7. Test your model\n",
    "Show the accuracy, precision, and recall of the tuned model.  \n",
    "\n",
    "Since this project focuses on code quality, process, and  pipelines, there is no minimum performance metric needed to pass. However, make sure to fine tune your models for accuracy, precision and recall to make your project stand out - especially for your portfolio!"
   ]
  },
  {
   "cell_type": "code",
   "execution_count": 13,
   "metadata": {},
   "outputs": [
    {
     "name": "stdout",
     "output_type": "stream",
     "text": [
      "                        precision    recall  f1-score   support\n",
      "\n",
      "               related       0.98      0.94      0.96      4406\n",
      "               request       0.89      0.83      0.86       785\n",
      "                 offer       0.00      0.00      0.00         0\n",
      "           aid_related       0.93      0.82      0.87      2339\n",
      "          medical_help       0.77      0.70      0.73       207\n",
      "      medical_products       0.80      0.77      0.79       111\n",
      "     search_and_rescue       0.83      0.86      0.85        29\n",
      "              security       0.14      1.00      0.25         1\n",
      "              military       0.81      0.83      0.82        88\n",
      "                 water       0.92      0.78      0.84       331\n",
      "                  food       0.95      0.85      0.90       553\n",
      "               shelter       0.89      0.83      0.86       341\n",
      "              clothing       0.98      0.85      0.91        47\n",
      "                 money       0.71      0.70      0.70        46\n",
      "        missing_people       0.83      0.83      0.83        12\n",
      "              refugees       0.80      0.85      0.82        71\n",
      "                 death       0.91      0.83      0.86       162\n",
      "             other_aid       0.65      0.59      0.62       321\n",
      "infrastructure_related       0.48      0.61      0.53        64\n",
      "             transport       0.83      0.68      0.75        85\n",
      "             buildings       0.87      0.76      0.81       156\n",
      "           electricity       0.88      0.66      0.75        44\n",
      "                 tools       0.00      0.00      0.00         0\n",
      "             hospitals       0.67      0.50      0.57         8\n",
      "                 shops       0.00      0.00      0.00         0\n",
      "           aid_centers       0.00      0.00      0.00         2\n",
      "  other_infrastructure       0.46      0.61      0.52        28\n",
      "       weather_related       0.94      0.86      0.90      1415\n",
      "                floods       0.93      0.88      0.90       271\n",
      "                 storm       0.96      0.83      0.89       447\n",
      "                  fire       0.78      0.88      0.82        16\n",
      "            earthquake       0.97      0.93      0.95       450\n",
      "                  cold       0.88      0.84      0.86        43\n",
      "         other_weather       0.68      0.78      0.73        83\n",
      "         direct_report       0.85      0.79      0.82       820\n",
      "\n",
      "           avg / total       0.92      0.85      0.89     13782\n",
      "\n"
     ]
    },
    {
     "name": "stderr",
     "output_type": "stream",
     "text": [
      "/opt/conda/lib/python3.6/site-packages/sklearn/metrics/classification.py:1135: UndefinedMetricWarning: Precision and F-score are ill-defined and being set to 0.0 in labels with no predicted samples.\n",
      "  'precision', 'predicted', average, warn_for)\n",
      "/opt/conda/lib/python3.6/site-packages/sklearn/metrics/classification.py:1137: UndefinedMetricWarning: Recall and F-score are ill-defined and being set to 0.0 in labels with no true samples.\n",
      "  'recall', 'true', average, warn_for)\n"
     ]
    }
   ],
   "source": [
    "class_report = classification_report(y_test, y_pred, target_names=category_names) # print classification report\n",
    "print(class_report)\n",
    "\n",
    "#print('Accuracy: {}'.format(np.mean(y_test.values == y_pred))) # print accuracy score"
   ]
  },
  {
   "cell_type": "markdown",
   "metadata": {},
   "source": [
    "### 8. Try improving your model further. Here are a few ideas:\n",
    "* try other machine learning algorithms\n",
    "* add other features besides the TF-IDF"
   ]
  },
  {
   "cell_type": "code",
   "execution_count": null,
   "metadata": {},
   "outputs": [],
   "source": []
  },
  {
   "cell_type": "markdown",
   "metadata": {},
   "source": [
    "### 9. Export your model as a pickle file"
   ]
  },
  {
   "cell_type": "code",
   "execution_count": 14,
   "metadata": {},
   "outputs": [],
   "source": [
    "m = pickle.dumps('classifier.pkl')"
   ]
  },
  {
   "cell_type": "markdown",
   "metadata": {},
   "source": [
    "### 10. Use this notebook to complete `train.py`\n",
    "Use the template file attached in the Resources folder to write a script that runs the steps above to create a database and export a model based on a new dataset specified by the user."
   ]
  },
  {
   "cell_type": "code",
   "execution_count": null,
   "metadata": {},
   "outputs": [],
   "source": []
  }
 ],
 "metadata": {
  "kernelspec": {
   "display_name": "Python 3",
   "language": "python",
   "name": "python3"
  },
  "language_info": {
   "codemirror_mode": {
    "name": "ipython",
    "version": 3
   },
   "file_extension": ".py",
   "mimetype": "text/x-python",
   "name": "python",
   "nbconvert_exporter": "python",
   "pygments_lexer": "ipython3",
   "version": "3.6.3"
  }
 },
 "nbformat": 4,
 "nbformat_minor": 2
}
