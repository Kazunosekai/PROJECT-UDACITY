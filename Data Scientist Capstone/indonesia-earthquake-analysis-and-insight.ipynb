{
 "cells": [
  {
   "cell_type": "markdown",
   "metadata": {
    "_cell_guid": "b1076dfc-b9ad-4769-8c92-a6c4dae69d19",
    "_uuid": "8f2839f25d086af736a60e9eeb907d3b93b6e0e5"
   },
   "source": [
    "# Indonesia Earthquake"
   ]
  },
  {
   "cell_type": "markdown",
   "metadata": {},
   "source": [
    "**This article is intended to:**\n",
    "\n",
    "- Beginner Machine Learning model building\n",
    "- Analyze datasets with simple visualizations\n",
    "- Train Various Machine Learning Models to choose the most suitable one\n",
    "\n",
    "**The Machine Learning models used are:**\n",
    "\n",
    "1. XGB Classifier\n",
    "2. K-Nearest Neighbors Classifier\n",
    "3. AdaBoost Classifier"
   ]
  },
  {
   "cell_type": "markdown",
   "metadata": {},
   "source": [
    "## Install Basemap \n",
    "Used for Map Visual Data"
   ]
  },
  {
   "cell_type": "code",
   "execution_count": 1,
   "metadata": {
    "execution": {
     "iopub.execute_input": "2022-12-01T09:13:35.395818Z",
     "iopub.status.busy": "2022-12-01T09:13:35.395402Z",
     "iopub.status.idle": "2022-12-01T09:13:53.031779Z",
     "shell.execute_reply": "2022-12-01T09:13:53.030829Z",
     "shell.execute_reply.started": "2022-12-01T09:13:35.395785Z"
    }
   },
   "outputs": [
    {
     "name": "stdout",
     "output_type": "stream",
     "text": [
      "Collecting basemap\n",
      "  Downloading basemap-1.3.6-cp39-cp39-win_amd64.whl (488 kB)\n",
      "Requirement already satisfied: matplotlib<3.7,>=1.5 in c:\\users\\lenovo\\anaconda3\\lib\\site-packages (from basemap) (3.5.1)\n",
      "Collecting pyproj<3.5.0,>=1.9.3\n",
      "  Downloading pyproj-3.4.0-cp39-cp39-win_amd64.whl (4.8 MB)\n",
      "Collecting numpy<1.24,>=1.22\n",
      "  Downloading numpy-1.23.5-cp39-cp39-win_amd64.whl (14.7 MB)\n",
      "Collecting basemap-data<1.4,>=1.3.2\n",
      "  Downloading basemap_data-1.3.2-py2.py3-none-any.whl (30.5 MB)\n",
      "Collecting pyshp<2.4,>=1.2\n",
      "  Downloading pyshp-2.3.1-py2.py3-none-any.whl (46 kB)\n",
      "Requirement already satisfied: cycler>=0.10 in c:\\users\\lenovo\\anaconda3\\lib\\site-packages (from matplotlib<3.7,>=1.5->basemap) (0.11.0)\n",
      "Requirement already satisfied: packaging>=20.0 in c:\\users\\lenovo\\anaconda3\\lib\\site-packages (from matplotlib<3.7,>=1.5->basemap) (21.3)\n",
      "Requirement already satisfied: kiwisolver>=1.0.1 in c:\\users\\lenovo\\anaconda3\\lib\\site-packages (from matplotlib<3.7,>=1.5->basemap) (1.3.2)\n",
      "Requirement already satisfied: pyparsing>=2.2.1 in c:\\users\\lenovo\\anaconda3\\lib\\site-packages (from matplotlib<3.7,>=1.5->basemap) (3.0.4)\n",
      "Requirement already satisfied: python-dateutil>=2.7 in c:\\users\\lenovo\\anaconda3\\lib\\site-packages (from matplotlib<3.7,>=1.5->basemap) (2.8.2)\n",
      "Requirement already satisfied: pillow>=6.2.0 in c:\\users\\lenovo\\anaconda3\\lib\\site-packages (from matplotlib<3.7,>=1.5->basemap) (9.0.1)\n",
      "Requirement already satisfied: fonttools>=4.22.0 in c:\\users\\lenovo\\anaconda3\\lib\\site-packages (from matplotlib<3.7,>=1.5->basemap) (4.25.0)\n",
      "Requirement already satisfied: certifi in c:\\users\\lenovo\\anaconda3\\lib\\site-packages (from pyproj<3.5.0,>=1.9.3->basemap) (2021.10.8)\n",
      "Requirement already satisfied: six>=1.5 in c:\\users\\lenovo\\anaconda3\\lib\\site-packages (from python-dateutil>=2.7->matplotlib<3.7,>=1.5->basemap) (1.16.0)\n",
      "Installing collected packages: numpy, pyshp, pyproj, basemap-data, basemap\n",
      "  Attempting uninstall: numpy\n",
      "    Found existing installation: numpy 1.21.5\n",
      "    Uninstalling numpy-1.21.5:\n",
      "      Successfully uninstalled numpy-1.21.5\n",
      "Successfully installed basemap-1.3.6 basemap-data-1.3.2 numpy-1.23.5 pyproj-3.4.0 pyshp-2.3.1\n"
     ]
    },
    {
     "name": "stderr",
     "output_type": "stream",
     "text": [
      "ERROR: pip's dependency resolver does not currently take into account all the packages that are installed. This behaviour is the source of the following dependency conflicts.\n",
      "daal4py 2021.5.0 requires daal==2021.4.0, which is not installed.\n",
      "scipy 1.7.3 requires numpy<1.23.0,>=1.16.5, but you have numpy 1.23.5 which is incompatible.\n",
      "numba 0.55.1 requires numpy<1.22,>=1.18, but you have numpy 1.23.5 which is incompatible.\n"
     ]
    },
    {
     "name": "stdout",
     "output_type": "stream",
     "text": [
      "Requirement already satisfied: basemap-data in c:\\users\\lenovo\\anaconda3\\lib\\site-packages (1.3.2)\n"
     ]
    }
   ],
   "source": [
    "!pip install basemap\n",
    "!pip install basemap-data"
   ]
  },
  {
   "cell_type": "markdown",
   "metadata": {},
   "source": [
    "## Import Necessary Library"
   ]
  },
  {
   "cell_type": "code",
   "execution_count": 237,
   "metadata": {
    "execution": {
     "iopub.execute_input": "2022-12-01T11:21:23.047650Z",
     "iopub.status.busy": "2022-12-01T11:21:23.047284Z",
     "iopub.status.idle": "2022-12-01T11:21:24.101573Z",
     "shell.execute_reply": "2022-12-01T11:21:24.100306Z",
     "shell.execute_reply.started": "2022-12-01T11:21:23.047622Z"
    }
   },
   "outputs": [],
   "source": [
    "# Basic library\n",
    "import numpy as np # Array handler\n",
    "import pandas as pd # Data analysis\n",
    "import seaborn as sns  #Visualization\n",
    "import matplotlib.pyplot as plt #Visualization\n",
    "import plotly.express as px \n",
    "\n",
    "\n",
    "# Preprocessing\n",
    "from sklearn.preprocessing import LabelEncoder # Handling categorial features\n",
    "from sklearn.preprocessing import MinMaxScaler # Features scaler\n",
    "from sklearn.metrics import accuracy_score, f1_score, confusion_matrix\n",
    "import scipy\n",
    "\n",
    "# Clustering\n",
    "from sklearn.model_selection import train_test_split, GridSearchCV\n",
    "from sklearn.cluster import KMeans # Clustering machine learning\n",
    "from sklearn.neighbors import KNeighborsClassifier\n",
    "from sklearn.metrics import silhouette_score\n",
    "from xgboost import XGBClassifier"
   ]
  },
  {
   "cell_type": "markdown",
   "metadata": {},
   "source": [
    "## Data Loading\n",
    "\n",
    "Now let’s load and read the dataset. The dataset that I am using here can be easily"
   ]
  },
  {
   "cell_type": "code",
   "execution_count": 226,
   "metadata": {
    "_kg_hide-input": true,
    "execution": {
     "iopub.execute_input": "2022-12-01T10:57:44.378736Z",
     "iopub.status.busy": "2022-12-01T10:57:44.378333Z",
     "iopub.status.idle": "2022-12-01T10:57:44.543980Z",
     "shell.execute_reply": "2022-12-01T10:57:44.542337Z",
     "shell.execute_reply.started": "2022-12-01T10:57:44.378707Z"
    }
   },
   "outputs": [
    {
     "data": {
      "text/plain": [
       "Index(['date', 'time', 'latitude', 'longitude', 'depth', 'magnitude'], dtype='object')"
      ]
     },
     "execution_count": 226,
     "metadata": {},
     "output_type": "execute_result"
    }
   ],
   "source": [
    "dfRaw = pd.read_csv('data/earthquaqe_id.csv')\n",
    "dfRaw.columns"
   ]
  },
  {
   "cell_type": "markdown",
   "metadata": {},
   "source": [
    "See the main characteristics of earthquake data and create an object of these characteristics, namely date, time, latitude, longitude, depth, magnitude"
   ]
  },
  {
   "cell_type": "code",
   "execution_count": 227,
   "metadata": {
    "execution": {
     "iopub.execute_input": "2022-12-01T10:57:49.697136Z",
     "iopub.status.busy": "2022-12-01T10:57:49.696405Z",
     "iopub.status.idle": "2022-12-01T10:57:49.704871Z",
     "shell.execute_reply": "2022-12-01T10:57:49.702647Z",
     "shell.execute_reply.started": "2022-12-01T10:57:49.697080Z"
    }
   },
   "outputs": [
    {
     "data": {
      "text/plain": [
       "(87372, 6)"
      ]
     },
     "execution_count": 227,
     "metadata": {},
     "output_type": "execute_result"
    }
   ],
   "source": [
    "dfRaw.shape"
   ]
  },
  {
   "cell_type": "code",
   "execution_count": 228,
   "metadata": {
    "execution": {
     "iopub.execute_input": "2022-12-01T10:57:54.640985Z",
     "iopub.status.busy": "2022-12-01T10:57:54.640538Z",
     "iopub.status.idle": "2022-12-01T10:57:54.655563Z",
     "shell.execute_reply": "2022-12-01T10:57:54.653761Z",
     "shell.execute_reply.started": "2022-12-01T10:57:54.640919Z"
    }
   },
   "outputs": [
    {
     "data": {
      "text/html": [
       "<div>\n",
       "<style scoped>\n",
       "    .dataframe tbody tr th:only-of-type {\n",
       "        vertical-align: middle;\n",
       "    }\n",
       "\n",
       "    .dataframe tbody tr th {\n",
       "        vertical-align: top;\n",
       "    }\n",
       "\n",
       "    .dataframe thead th {\n",
       "        text-align: right;\n",
       "    }\n",
       "</style>\n",
       "<table border=\"1\" class=\"dataframe\">\n",
       "  <thead>\n",
       "    <tr style=\"text-align: right;\">\n",
       "      <th></th>\n",
       "      <th>date</th>\n",
       "      <th>time</th>\n",
       "      <th>latitude</th>\n",
       "      <th>longitude</th>\n",
       "      <th>depth</th>\n",
       "      <th>magnitude</th>\n",
       "    </tr>\n",
       "  </thead>\n",
       "  <tbody>\n",
       "    <tr>\n",
       "      <th>0</th>\n",
       "      <td>2008-11-01</td>\n",
       "      <td>00:31:25</td>\n",
       "      <td>-0.60</td>\n",
       "      <td>98.89553</td>\n",
       "      <td>20.0</td>\n",
       "      <td>2.99</td>\n",
       "    </tr>\n",
       "    <tr>\n",
       "      <th>1</th>\n",
       "      <td>2008-11-01</td>\n",
       "      <td>01:34:29</td>\n",
       "      <td>-6.61</td>\n",
       "      <td>129.38722</td>\n",
       "      <td>30.1</td>\n",
       "      <td>5.51</td>\n",
       "    </tr>\n",
       "    <tr>\n",
       "      <th>2</th>\n",
       "      <td>2008-11-01</td>\n",
       "      <td>01:38:14</td>\n",
       "      <td>-3.65</td>\n",
       "      <td>127.99068</td>\n",
       "      <td>5.0</td>\n",
       "      <td>3.54</td>\n",
       "    </tr>\n",
       "    <tr>\n",
       "      <th>3</th>\n",
       "      <td>2008-11-01</td>\n",
       "      <td>02:20:05</td>\n",
       "      <td>-4.20</td>\n",
       "      <td>128.09700</td>\n",
       "      <td>5.0</td>\n",
       "      <td>2.42</td>\n",
       "    </tr>\n",
       "    <tr>\n",
       "      <th>4</th>\n",
       "      <td>2008-11-01</td>\n",
       "      <td>02:32:18</td>\n",
       "      <td>-4.09</td>\n",
       "      <td>128.20047</td>\n",
       "      <td>10.0</td>\n",
       "      <td>2.41</td>\n",
       "    </tr>\n",
       "  </tbody>\n",
       "</table>\n",
       "</div>"
      ],
      "text/plain": [
       "         date      time  latitude  longitude  depth  magnitude\n",
       "0  2008-11-01  00:31:25     -0.60   98.89553   20.0       2.99\n",
       "1  2008-11-01  01:34:29     -6.61  129.38722   30.1       5.51\n",
       "2  2008-11-01  01:38:14     -3.65  127.99068    5.0       3.54\n",
       "3  2008-11-01  02:20:05     -4.20  128.09700    5.0       2.42\n",
       "4  2008-11-01  02:32:18     -4.09  128.20047   10.0       2.41"
      ]
     },
     "execution_count": 228,
     "metadata": {},
     "output_type": "execute_result"
    }
   ],
   "source": [
    "dfRaw.head()"
   ]
  },
  {
   "cell_type": "markdown",
   "metadata": {},
   "source": [
    "There are 6 Variables in this Dataset:\n",
    "\n",
    "- 4 Continuous Variables.\n",
    "- 2 Variable to accommodate the Date and Time."
   ]
  },
  {
   "cell_type": "markdown",
   "metadata": {},
   "source": [
    "## Data Cleaning \n",
    "### Checking Features Info"
   ]
  },
  {
   "cell_type": "code",
   "execution_count": 229,
   "metadata": {
    "execution": {
     "iopub.execute_input": "2022-12-01T10:57:59.714958Z",
     "iopub.status.busy": "2022-12-01T10:57:59.714321Z",
     "iopub.status.idle": "2022-12-01T10:57:59.741054Z",
     "shell.execute_reply": "2022-12-01T10:57:59.739405Z",
     "shell.execute_reply.started": "2022-12-01T10:57:59.714925Z"
    }
   },
   "outputs": [
    {
     "name": "stdout",
     "output_type": "stream",
     "text": [
      "<class 'pandas.core.frame.DataFrame'>\n",
      "RangeIndex: 87372 entries, 0 to 87371\n",
      "Data columns (total 6 columns):\n",
      " #   Column     Non-Null Count  Dtype  \n",
      "---  ------     --------------  -----  \n",
      " 0   date       87372 non-null  object \n",
      " 1   time       87372 non-null  object \n",
      " 2   latitude   87372 non-null  float64\n",
      " 3   longitude  87372 non-null  float64\n",
      " 4   depth      87372 non-null  float64\n",
      " 5   magnitude  87372 non-null  float64\n",
      "dtypes: float64(4), object(2)\n",
      "memory usage: 4.0+ MB\n"
     ]
    }
   ],
   "source": [
    "dfRaw.info()"
   ]
  },
  {
   "cell_type": "markdown",
   "metadata": {},
   "source": [
    "### Checking Null Value in Each Features"
   ]
  },
  {
   "cell_type": "code",
   "execution_count": 230,
   "metadata": {
    "_kg_hide-input": true,
    "execution": {
     "iopub.execute_input": "2022-12-01T10:58:42.496189Z",
     "iopub.status.busy": "2022-12-01T10:58:42.495770Z",
     "iopub.status.idle": "2022-12-01T10:58:42.517632Z",
     "shell.execute_reply": "2022-12-01T10:58:42.516334Z",
     "shell.execute_reply.started": "2022-12-01T10:58:42.496160Z"
    }
   },
   "outputs": [
    {
     "data": {
      "text/plain": [
       "date         0\n",
       "time         0\n",
       "latitude     0\n",
       "longitude    0\n",
       "depth        0\n",
       "magnitude    0\n",
       "dtype: int64"
      ]
     },
     "execution_count": 230,
     "metadata": {},
     "output_type": "execute_result"
    }
   ],
   "source": [
    "dfRaw.isnull().sum()"
   ]
  },
  {
   "cell_type": "markdown",
   "metadata": {},
   "source": [
    "### Create New Feature: Earthquake Category"
   ]
  },
  {
   "cell_type": "markdown",
   "metadata": {},
   "source": []
  },
  {
   "cell_type": "code",
   "execution_count": 141,
   "metadata": {
    "execution": {
     "iopub.execute_input": "2022-12-01T09:14:43.234995Z",
     "iopub.status.busy": "2022-12-01T09:14:43.234665Z",
     "iopub.status.idle": "2022-12-01T09:14:43.284213Z",
     "shell.execute_reply": "2022-12-01T09:14:43.282950Z",
     "shell.execute_reply.started": "2022-12-01T09:14:43.234969Z"
    }
   },
   "outputs": [
    {
     "data": {
      "text/html": [
       "<div>\n",
       "<style scoped>\n",
       "    .dataframe tbody tr th:only-of-type {\n",
       "        vertical-align: middle;\n",
       "    }\n",
       "\n",
       "    .dataframe tbody tr th {\n",
       "        vertical-align: top;\n",
       "    }\n",
       "\n",
       "    .dataframe thead th {\n",
       "        text-align: right;\n",
       "    }\n",
       "</style>\n",
       "<table border=\"1\" class=\"dataframe\">\n",
       "  <thead>\n",
       "    <tr style=\"text-align: right;\">\n",
       "      <th></th>\n",
       "      <th>date</th>\n",
       "      <th>time</th>\n",
       "      <th>latitude</th>\n",
       "      <th>longitude</th>\n",
       "      <th>depth</th>\n",
       "      <th>magnitude</th>\n",
       "      <th>earthquakeCategory</th>\n",
       "    </tr>\n",
       "  </thead>\n",
       "  <tbody>\n",
       "    <tr>\n",
       "      <th>0</th>\n",
       "      <td>2008-11-01</td>\n",
       "      <td>00:31:25</td>\n",
       "      <td>-0.60</td>\n",
       "      <td>98.89553</td>\n",
       "      <td>20.0</td>\n",
       "      <td>2.99</td>\n",
       "      <td>Micro</td>\n",
       "    </tr>\n",
       "    <tr>\n",
       "      <th>1</th>\n",
       "      <td>2008-11-01</td>\n",
       "      <td>01:34:29</td>\n",
       "      <td>-6.61</td>\n",
       "      <td>129.38722</td>\n",
       "      <td>30.1</td>\n",
       "      <td>5.51</td>\n",
       "      <td>Moderate</td>\n",
       "    </tr>\n",
       "    <tr>\n",
       "      <th>2</th>\n",
       "      <td>2008-11-01</td>\n",
       "      <td>01:38:14</td>\n",
       "      <td>-3.65</td>\n",
       "      <td>127.99068</td>\n",
       "      <td>5.0</td>\n",
       "      <td>3.54</td>\n",
       "      <td>Minor</td>\n",
       "    </tr>\n",
       "    <tr>\n",
       "      <th>3</th>\n",
       "      <td>2008-11-01</td>\n",
       "      <td>02:20:05</td>\n",
       "      <td>-4.20</td>\n",
       "      <td>128.09700</td>\n",
       "      <td>5.0</td>\n",
       "      <td>2.42</td>\n",
       "      <td>Micro</td>\n",
       "    </tr>\n",
       "    <tr>\n",
       "      <th>4</th>\n",
       "      <td>2008-11-01</td>\n",
       "      <td>02:32:18</td>\n",
       "      <td>-4.09</td>\n",
       "      <td>128.20047</td>\n",
       "      <td>10.0</td>\n",
       "      <td>2.41</td>\n",
       "      <td>Micro</td>\n",
       "    </tr>\n",
       "  </tbody>\n",
       "</table>\n",
       "</div>"
      ],
      "text/plain": [
       "         date      time  latitude  longitude  depth  magnitude  \\\n",
       "0  2008-11-01  00:31:25     -0.60   98.89553   20.0       2.99   \n",
       "1  2008-11-01  01:34:29     -6.61  129.38722   30.1       5.51   \n",
       "2  2008-11-01  01:38:14     -3.65  127.99068    5.0       3.54   \n",
       "3  2008-11-01  02:20:05     -4.20  128.09700    5.0       2.42   \n",
       "4  2008-11-01  02:32:18     -4.09  128.20047   10.0       2.41   \n",
       "\n",
       "  earthquakeCategory  \n",
       "0              Micro  \n",
       "1           Moderate  \n",
       "2              Minor  \n",
       "3              Micro  \n",
       "4              Micro  "
      ]
     },
     "execution_count": 141,
     "metadata": {},
     "output_type": "execute_result"
    }
   ],
   "source": [
    "tempList = []\n",
    "for i in dfRaw['magnitude'].tolist():\n",
    "    tempVar = ''\n",
    "    if (i<3):\n",
    "        tempVar = 'Micro'\n",
    "    elif (i<4):\n",
    "        tempVar = 'Minor'\n",
    "    elif (i<5):\n",
    "        tempVar = 'Light'\n",
    "    elif (i<6):\n",
    "        tempVar = 'Moderate'\n",
    "    elif (i<7):\n",
    "        tempVar = 'Strong'\n",
    "    elif (i<8):\n",
    "        tempVar = 'Major'\n",
    "    else:\n",
    "        tempVar = 'Great'\n",
    "    tempList.append(tempVar)\n",
    "dfRaw['earthquakeCategory'] = tempList\n",
    "dfRaw.head()"
   ]
  },
  {
   "cell_type": "code",
   "execution_count": 151,
   "metadata": {
    "execution": {
     "iopub.execute_input": "2022-12-01T09:26:27.043571Z",
     "iopub.status.busy": "2022-12-01T09:26:27.043110Z",
     "iopub.status.idle": "2022-12-01T09:26:27.068883Z",
     "shell.execute_reply": "2022-12-01T09:26:27.068109Z",
     "shell.execute_reply.started": "2022-12-01T09:26:27.043531Z"
    }
   },
   "outputs": [
    {
     "name": "stdout",
     "output_type": "stream",
     "text": [
      "<class 'pandas.core.frame.DataFrame'>\n",
      "RangeIndex: 87372 entries, 0 to 87371\n",
      "Data columns (total 7 columns):\n",
      " #   Column              Non-Null Count  Dtype  \n",
      "---  ------              --------------  -----  \n",
      " 0   date                87372 non-null  object \n",
      " 1   time                87372 non-null  object \n",
      " 2   latitude            87372 non-null  float64\n",
      " 3   longitude           87372 non-null  float64\n",
      " 4   depth               87372 non-null  float64\n",
      " 5   magnitude           87372 non-null  float64\n",
      " 6   earthquakeCategory  87372 non-null  object \n",
      "dtypes: float64(4), object(3)\n",
      "memory usage: 4.7+ MB\n"
     ]
    }
   ],
   "source": [
    "dfRaw.info()"
   ]
  },
  {
   "cell_type": "markdown",
   "metadata": {},
   "source": [
    "## Data Pre-Processing:"
   ]
  },
  {
   "cell_type": "code",
   "execution_count": 158,
   "metadata": {
    "execution": {
     "iopub.execute_input": "2022-12-01T09:35:28.090005Z",
     "iopub.status.busy": "2022-12-01T09:35:28.088611Z",
     "iopub.status.idle": "2022-12-01T09:35:28.105543Z",
     "shell.execute_reply": "2022-12-01T09:35:28.104219Z",
     "shell.execute_reply.started": "2022-12-01T09:35:28.089890Z"
    }
   },
   "outputs": [],
   "source": [
    "# Converting the Dtype on date from object to datetime\n",
    "dfRaw['date'] = pd.to_datetime(dfRaw['date'])"
   ]
  },
  {
   "cell_type": "code",
   "execution_count": 159,
   "metadata": {
    "execution": {
     "iopub.execute_input": "2022-12-01T09:36:07.265066Z",
     "iopub.status.busy": "2022-12-01T09:36:07.264698Z",
     "iopub.status.idle": "2022-12-01T09:36:10.675513Z",
     "shell.execute_reply": "2022-12-01T09:36:10.674120Z",
     "shell.execute_reply.started": "2022-12-01T09:36:07.265034Z"
    }
   },
   "outputs": [],
   "source": [
    "# Converting the Dtype on time from object to datetime\n",
    "dfRaw['time'] = pd.to_datetime(dfRaw['time'])"
   ]
  },
  {
   "cell_type": "code",
   "execution_count": 160,
   "metadata": {
    "execution": {
     "iopub.execute_input": "2022-12-01T09:36:13.208232Z",
     "iopub.status.busy": "2022-12-01T09:36:13.207716Z",
     "iopub.status.idle": "2022-12-01T09:36:13.216189Z",
     "shell.execute_reply": "2022-12-01T09:36:13.215166Z",
     "shell.execute_reply.started": "2022-12-01T09:36:13.208205Z"
    }
   },
   "outputs": [],
   "source": [
    "# The column earthquakeCategory contains the data value in the string form and we need to predict the weather data \n",
    "# so we convert it to an int as label.\n",
    "dfRaw['earthquakeCategory']=LabelEncoder().fit_transform(dfRaw['earthquakeCategory'])"
   ]
  },
  {
   "cell_type": "code",
   "execution_count": 161,
   "metadata": {
    "execution": {
     "iopub.execute_input": "2022-12-01T09:36:16.312362Z",
     "iopub.status.busy": "2022-12-01T09:36:16.311988Z",
     "iopub.status.idle": "2022-12-01T09:36:16.325540Z",
     "shell.execute_reply": "2022-12-01T09:36:16.324150Z",
     "shell.execute_reply.started": "2022-12-01T09:36:16.312332Z"
    }
   },
   "outputs": [
    {
     "name": "stdout",
     "output_type": "stream",
     "text": [
      "<class 'pandas.core.frame.DataFrame'>\n",
      "RangeIndex: 87372 entries, 0 to 87371\n",
      "Data columns (total 7 columns):\n",
      " #   Column              Non-Null Count  Dtype         \n",
      "---  ------              --------------  -----         \n",
      " 0   date                87372 non-null  datetime64[ns]\n",
      " 1   time                87372 non-null  datetime64[ns]\n",
      " 2   latitude            87372 non-null  float64       \n",
      " 3   longitude           87372 non-null  float64       \n",
      " 4   depth               87372 non-null  float64       \n",
      " 5   magnitude           87372 non-null  float64       \n",
      " 6   earthquakeCategory  87372 non-null  int64         \n",
      "dtypes: datetime64[ns](2), float64(4), int64(1)\n",
      "memory usage: 4.7 MB\n"
     ]
    }
   ],
   "source": [
    "dfRaw.info()"
   ]
  },
  {
   "cell_type": "markdown",
   "metadata": {},
   "source": [
    "Now we have a good dataframe to be processed"
   ]
  },
  {
   "cell_type": "markdown",
   "metadata": {},
   "source": [
    "## Data Visualization"
   ]
  },
  {
   "cell_type": "code",
   "execution_count": 96,
   "metadata": {
    "execution": {
     "iopub.execute_input": "2022-12-01T08:09:26.145730Z",
     "iopub.status.busy": "2022-12-01T08:09:26.145405Z",
     "iopub.status.idle": "2022-12-01T08:09:26.850359Z",
     "shell.execute_reply": "2022-12-01T08:09:26.849172Z",
     "shell.execute_reply.started": "2022-12-01T08:09:26.145701Z"
    }
   },
   "outputs": [
    {
     "data": {
      "image/png": "[encoded data removed]",
      "text/plain": [
       "<Figure size 864x720 with 1 Axes>"
      ]
     },
     "metadata": {},
     "output_type": "display_data"
    }
   ],
   "source": [
    "from mpl_toolkits.basemap import Basemap\n",
    "\n",
    "m = Basemap(projection='mill',llcrnrlat=-15,urcrnrlat=8, llcrnrlon=93,urcrnrlon=144,resolution='l')\n",
    "\n",
    "longitudes = dfRaw[\"longitude\"].tolist()\n",
    "latitudes = dfRaw[\"latitude\"].tolist()\n",
    "            #m = Basemap(width=12000000,height=9000000,projection='lcc',\n",
    "            #resolution=None,lat_1=80.,lat_2=55,lat_0=80,lon_0=-107.)\n",
    "x,y = m(longitudes,latitudes)\n",
    "\n",
    "fig = plt.figure(figsize=(12,10))\n",
    "plt.title(\"Earthquake in Indonesia\")\n",
    "m.plot(x, y, \"o\", markersize = 2, color = 'blue')\n",
    "m.drawcoastlines()\n",
    "m.fillcontinents(color='coral',lake_color='aqua')\n",
    "m.drawmapboundary()\n",
    "m.drawcountries()\n",
    "plt.show()"
   ]
  },
  {
   "cell_type": "markdown",
   "metadata": {},
   "source": [
    "**Indonesia** is one of the countries that is traversed by the \"Ring of Fire\", so we can see that almost all land is threatened by an earthquake"
   ]
  },
  {
   "cell_type": "code",
   "execution_count": 238,
   "metadata": {
    "_kg_hide-input": true,
    "execution": {
     "iopub.execute_input": "2022-12-01T11:21:37.695756Z",
     "iopub.status.busy": "2022-12-01T11:21:37.695298Z",
     "iopub.status.idle": "2022-12-01T11:22:17.851284Z",
     "shell.execute_reply": "2022-12-01T11:22:17.849374Z",
     "shell.execute_reply.started": "2022-12-01T11:21:37.695721Z"
    }
   },
   "outputs": [
    {
     "data": {
      "image/png": "[encoded data removed]",
      "text/plain": [
       "<Figure size 1440x576 with 1 Axes>"
      ]
     },
     "metadata": {
      "needs_background": "light"
     },
     "output_type": "display_data"
    }
   ],
   "source": [
    "# Visualizing the magnitude, observing if there's abnormal data\n",
    "plt.figure(figsize = (20, 8))\n",
    "fig = plt.plot(dfRaw['date'], dfRaw['magnitude'])\n",
    "plt.grid();"
   ]
  },
  {
   "cell_type": "markdown",
   "metadata": {},
   "source": [
    "We can see there's a pattern of the magnitude every year, earthquakes occurred continuously between 2017-2022. The average strength of the earthquake is 4 SR and the highest number is almost close to 8 SR."
   ]
  },
  {
   "cell_type": "code",
   "execution_count": 241,
   "metadata": {
    "execution": {
     "iopub.execute_input": "2022-12-01T11:26:25.697077Z",
     "iopub.status.busy": "2022-12-01T11:26:25.696609Z",
     "iopub.status.idle": "2022-12-01T11:27:07.351646Z",
     "shell.execute_reply": "2022-12-01T11:27:07.350167Z",
     "shell.execute_reply.started": "2022-12-01T11:26:25.697036Z"
    }
   },
   "outputs": [
    {
     "data": {
      "image/png": "[encoded data removed]",
      "text/plain": [
       "<Figure size 1440x576 with 1 Axes>"
      ]
     },
     "metadata": {
      "needs_background": "light"
     },
     "output_type": "display_data"
    }
   ],
   "source": [
    "plt.figure(figsize = (20, 8))\n",
    "fig2 = plt.plot(dfRaw['date'], dfRaw['depth'])\n",
    "plt.grid();"
   ]
  },
  {
   "cell_type": "markdown",
   "metadata": {},
   "source": [
    "The Max depth of an earthquake is at a depth of 700 up and Min depth is at a depth of 200. "
   ]
  },
  {
   "cell_type": "code",
   "execution_count": 143,
   "metadata": {
    "execution": {
     "iopub.execute_input": "2022-12-01T09:17:56.873983Z",
     "iopub.status.busy": "2022-12-01T09:17:56.873633Z",
     "iopub.status.idle": "2022-12-01T09:17:57.110719Z",
     "shell.execute_reply": "2022-12-01T09:17:57.109498Z",
     "shell.execute_reply.started": "2022-12-01T09:17:56.873953Z"
    }
   },
   "outputs": [
    {
     "data": {
      "image/png": "[encoded data removed]",
      "text/plain": [
       "<Figure size 864x504 with 2 Axes>"
      ]
     },
     "metadata": {
      "needs_background": "light"
     },
     "output_type": "display_data"
    }
   ],
   "source": [
    "plt.figure(figsize=(12,7))\n",
    "sns.heatmap(dfRaw[[\"magnitude\",\"latitude\",\"longitude\",\"depth\"]].corr(),annot=True,cmap='coolwarm' );"
   ]
  },
  {
   "cell_type": "markdown",
   "metadata": {},
   "source": [
    "### Training Our Machine Learning Model:"
   ]
  },
  {
   "cell_type": "code",
   "execution_count": 209,
   "metadata": {
    "execution": {
     "iopub.execute_input": "2022-12-01T10:10:12.315688Z",
     "iopub.status.busy": "2022-12-01T10:10:12.315324Z",
     "iopub.status.idle": "2022-12-01T10:10:12.335952Z",
     "shell.execute_reply": "2022-12-01T10:10:12.334868Z",
     "shell.execute_reply.started": "2022-12-01T10:10:12.315661Z"
    }
   },
   "outputs": [
    {
     "name": "stdout",
     "output_type": "stream",
     "text": [
      "(65529, 4) (21843, 4) (65529, 1) (21843, 1)\n"
     ]
    }
   ],
   "source": [
    "features=[\"magnitude\",\"latitude\",\"longitude\",\"depth\"]\n",
    "X=dfRaw[features]\n",
    "y=dfRaw[['earthquakeCategory']]\n",
    "X_train, X_test, y_train,y_test = train_test_split(X, y,random_state = 0)\n",
    "print(X_train.shape, X_test.shape, y_train.shape, y_test.shape)"
   ]
  },
  {
   "cell_type": "markdown",
   "metadata": {},
   "source": [
    "### XGB Classifier"
   ]
  },
  {
   "cell_type": "code",
   "execution_count": 210,
   "metadata": {
    "execution": {
     "iopub.execute_input": "2022-12-01T10:10:14.814844Z",
     "iopub.status.busy": "2022-12-01T10:10:14.813685Z",
     "iopub.status.idle": "2022-12-01T10:10:18.248060Z",
     "shell.execute_reply": "2022-12-01T10:10:18.247014Z",
     "shell.execute_reply.started": "2022-12-01T10:10:14.814789Z"
    }
   },
   "outputs": [
    {
     "name": "stdout",
     "output_type": "stream",
     "text": [
      "XGB Accuracy:100.00%\n"
     ]
    }
   ],
   "source": [
    "xgb = XGBClassifier()\n",
    "xgb.fit(X_train,y_train)\n",
    "print(\"XGB Accuracy:{:.2f}%\".format(xgb.score(X_test,y_test)*100))"
   ]
  },
  {
   "cell_type": "markdown",
   "metadata": {},
   "source": [
    "### K-Nearest Neighbors Classifier"
   ]
  },
  {
   "cell_type": "code",
   "execution_count": 211,
   "metadata": {
    "execution": {
     "iopub.execute_input": "2022-12-01T10:10:20.668565Z",
     "iopub.status.busy": "2022-12-01T10:10:20.668191Z",
     "iopub.status.idle": "2022-12-01T10:10:21.313998Z",
     "shell.execute_reply": "2022-12-01T10:10:21.312803Z",
     "shell.execute_reply.started": "2022-12-01T10:10:20.668534Z"
    }
   },
   "outputs": [
    {
     "name": "stdout",
     "output_type": "stream",
     "text": [
      "KNN Accuracy:82.31%\n"
     ]
    }
   ],
   "source": [
    "knn = KNeighborsClassifier()\n",
    "knn.fit(X_train,y_train)\n",
    "print(\"KNN Accuracy:{:.2f}%\".format(knn.score(X_test,y_test)*100))"
   ]
  },
  {
   "cell_type": "markdown",
   "metadata": {},
   "source": [
    "### AdaBoost Classifier"
   ]
  },
  {
   "cell_type": "code",
   "execution_count": 213,
   "metadata": {
    "execution": {
     "iopub.execute_input": "2022-12-01T10:10:30.893191Z",
     "iopub.status.busy": "2022-12-01T10:10:30.892827Z",
     "iopub.status.idle": "2022-12-01T10:10:33.679565Z",
     "shell.execute_reply": "2022-12-01T10:10:33.677737Z",
     "shell.execute_reply.started": "2022-12-01T10:10:30.893160Z"
    }
   },
   "outputs": [
    {
     "name": "stdout",
     "output_type": "stream",
     "text": [
      "AB Accuracy:70.87%\n"
     ]
    }
   ],
   "source": [
    "ab = AdaBoostClassifier()\n",
    "ab.fit(X_train, y_train)\n",
    "print(\"AB Accuracy:{:.2f}%\".format(ab.score(X_test,y_test)*100))\n"
   ]
  },
  {
   "cell_type": "markdown",
   "metadata": {},
   "source": [
    "We achieved highest accuracy on **XGB Classifier** so we're going to use it"
   ]
  },
  {
   "cell_type": "markdown",
   "metadata": {},
   "source": [
    "## Try Improving Our Model:\n",
    "### GridSearchCV"
   ]
  },
  {
   "cell_type": "code",
   "execution_count": 214,
   "metadata": {
    "execution": {
     "iopub.execute_input": "2022-12-01T10:11:59.024646Z",
     "iopub.status.busy": "2022-12-01T10:11:59.024232Z",
     "iopub.status.idle": "2022-12-01T10:11:59.032988Z",
     "shell.execute_reply": "2022-12-01T10:11:59.031918Z",
     "shell.execute_reply.started": "2022-12-01T10:11:59.024615Z"
    }
   },
   "outputs": [
    {
     "data": {
      "text/plain": [
       "dict_keys(['objective', 'use_label_encoder', 'base_score', 'booster', 'callbacks', 'colsample_bylevel', 'colsample_bynode', 'colsample_bytree', 'early_stopping_rounds', 'enable_categorical', 'eval_metric', 'gamma', 'gpu_id', 'grow_policy', 'importance_type', 'interaction_constraints', 'learning_rate', 'max_bin', 'max_cat_to_onehot', 'max_delta_step', 'max_depth', 'max_leaves', 'min_child_weight', 'missing', 'monotone_constraints', 'n_estimators', 'n_jobs', 'num_parallel_tree', 'predictor', 'random_state', 'reg_alpha', 'reg_lambda', 'sampling_method', 'scale_pos_weight', 'subsample', 'tree_method', 'validate_parameters', 'verbosity'])"
      ]
     },
     "execution_count": 214,
     "metadata": {},
     "output_type": "execute_result"
    }
   ],
   "source": [
    "xgb.get_params().keys()"
   ]
  },
  {
   "cell_type": "code",
   "execution_count": 215,
   "metadata": {
    "execution": {
     "iopub.execute_input": "2022-12-01T10:12:44.816989Z",
     "iopub.status.busy": "2022-12-01T10:12:44.816519Z",
     "iopub.status.idle": "2022-12-01T10:18:48.195546Z",
     "shell.execute_reply": "2022-12-01T10:18:48.194489Z",
     "shell.execute_reply.started": "2022-12-01T10:12:44.816956Z"
    }
   },
   "outputs": [
    {
     "name": "stdout",
     "output_type": "stream",
     "text": [
      "Fitting 5 folds for each of 9 candidates, totalling 45 fits\n"
     ]
    },
    {
     "data": {
      "text/plain": [
       "GridSearchCV(estimator=AdaBoostClassifier(), n_jobs=-1,\n",
       "             param_grid={'learning_rate': [1, 2, 3],\n",
       "                         'n_estimators': [100, 500, 1000]},\n",
       "             scoring='f1_micro', verbose=3)"
      ]
     },
     "execution_count": 215,
     "metadata": {},
     "output_type": "execute_result"
    },
    {
     "name": "stdout",
     "output_type": "stream",
     "text": [
      "[CV 4/5] END .learning_rate=1, n_estimators=100;, score=0.710 total time=   5.8s\n",
      "[CV 3/5] END .learning_rate=1, n_estimators=500;, score=0.710 total time=  28.5s\n",
      "[CV 2/5] END learning_rate=1, n_estimators=1000;, score=0.710 total time=  56.5s\n",
      "[CV 5/5] END learning_rate=1, n_estimators=1000;, score=0.710 total time=  56.1s\n",
      "[CV 2/5] END learning_rate=2, n_estimators=1000;, score=0.968 total time=  55.9s\n",
      "[CV 5/5] END learning_rate=2, n_estimators=1000;, score=1.000 total time=  56.1s\n",
      "[CV 2/5] END learning_rate=3, n_estimators=1000;, score=1.000 total time=  55.9s\n"
     ]
    },
    {
     "name": "stderr",
     "output_type": "stream",
     "text": [
      "/opt/conda/lib/python3.7/site-packages/sklearn/utils/validation.py:993: DataConversionWarning: A column-vector y was passed when a 1d array was expected. Please change the shape of y to (n_samples, ), for example using ravel().\n",
      "  y = column_or_1d(y, warn=True)\n",
      "/opt/conda/lib/python3.7/site-packages/sklearn/utils/validation.py:993: DataConversionWarning: A column-vector y was passed when a 1d array was expected. Please change the shape of y to (n_samples, ), for example using ravel().\n",
      "  y = column_or_1d(y, warn=True)\n",
      "/opt/conda/lib/python3.7/site-packages/sklearn/utils/validation.py:993: DataConversionWarning: A column-vector y was passed when a 1d array was expected. Please change the shape of y to (n_samples, ), for example using ravel().\n",
      "  y = column_or_1d(y, warn=True)\n",
      "/opt/conda/lib/python3.7/site-packages/sklearn/utils/validation.py:993: DataConversionWarning: A column-vector y was passed when a 1d array was expected. Please change the shape of y to (n_samples, ), for example using ravel().\n",
      "  y = column_or_1d(y, warn=True)\n",
      "/opt/conda/lib/python3.7/site-packages/sklearn/utils/validation.py:993: DataConversionWarning: A column-vector y was passed when a 1d array was expected. Please change the shape of y to (n_samples, ), for example using ravel().\n",
      "  y = column_or_1d(y, warn=True)\n",
      "/opt/conda/lib/python3.7/site-packages/sklearn/utils/validation.py:993: DataConversionWarning: A column-vector y was passed when a 1d array was expected. Please change the shape of y to (n_samples, ), for example using ravel().\n",
      "  y = column_or_1d(y, warn=True)\n",
      "/opt/conda/lib/python3.7/site-packages/sklearn/utils/validation.py:993: DataConversionWarning: A column-vector y was passed when a 1d array was expected. Please change the shape of y to (n_samples, ), for example using ravel().\n",
      "  y = column_or_1d(y, warn=True)\n",
      "/opt/conda/lib/python3.7/site-packages/sklearn/utils/validation.py:993: DataConversionWarning: A column-vector y was passed when a 1d array was expected. Please change the shape of y to (n_samples, ), for example using ravel().\n",
      "  y = column_or_1d(y, warn=True)\n",
      "/opt/conda/lib/python3.7/site-packages/sklearn/utils/validation.py:993: DataConversionWarning: A column-vector y was passed when a 1d array was expected. Please change the shape of y to (n_samples, ), for example using ravel().\n",
      "  y = column_or_1d(y, warn=True)\n",
      "/opt/conda/lib/python3.7/site-packages/sklearn/utils/validation.py:993: DataConversionWarning: A column-vector y was passed when a 1d array was expected. Please change the shape of y to (n_samples, ), for example using ravel().\n",
      "  y = column_or_1d(y, warn=True)\n",
      "/opt/conda/lib/python3.7/site-packages/sklearn/utils/validation.py:993: DataConversionWarning: A column-vector y was passed when a 1d array was expected. Please change the shape of y to (n_samples, ), for example using ravel().\n",
      "  y = column_or_1d(y, warn=True)\n",
      "/opt/conda/lib/python3.7/site-packages/sklearn/utils/validation.py:993: DataConversionWarning: A column-vector y was passed when a 1d array was expected. Please change the shape of y to (n_samples, ), for example using ravel().\n",
      "  y = column_or_1d(y, warn=True)\n",
      "/opt/conda/lib/python3.7/site-packages/sklearn/utils/validation.py:993: DataConversionWarning: A column-vector y was passed when a 1d array was expected. Please change the shape of y to (n_samples, ), for example using ravel().\n",
      "  y = column_or_1d(y, warn=True)\n",
      "/opt/conda/lib/python3.7/site-packages/sklearn/utils/validation.py:993: DataConversionWarning: A column-vector y was passed when a 1d array was expected. Please change the shape of y to (n_samples, ), for example using ravel().\n",
      "  y = column_or_1d(y, warn=True)\n",
      "/opt/conda/lib/python3.7/site-packages/sklearn/utils/validation.py:993: DataConversionWarning: A column-vector y was passed when a 1d array was expected. Please change the shape of y to (n_samples, ), for example using ravel().\n",
      "  y = column_or_1d(y, warn=True)\n",
      "/opt/conda/lib/python3.7/site-packages/sklearn/utils/validation.py:993: DataConversionWarning: A column-vector y was passed when a 1d array was expected. Please change the shape of y to (n_samples, ), for example using ravel().\n",
      "  y = column_or_1d(y, warn=True)\n",
      "/opt/conda/lib/python3.7/site-packages/sklearn/utils/validation.py:993: DataConversionWarning: A column-vector y was passed when a 1d array was expected. Please change the shape of y to (n_samples, ), for example using ravel().\n",
      "  y = column_or_1d(y, warn=True)\n",
      "/opt/conda/lib/python3.7/site-packages/sklearn/utils/validation.py:993: DataConversionWarning: A column-vector y was passed when a 1d array was expected. Please change the shape of y to (n_samples, ), for example using ravel().\n",
      "  y = column_or_1d(y, warn=True)\n",
      "/opt/conda/lib/python3.7/site-packages/sklearn/utils/validation.py:993: DataConversionWarning: A column-vector y was passed when a 1d array was expected. Please change the shape of y to (n_samples, ), for example using ravel().\n",
      "  y = column_or_1d(y, warn=True)\n"
     ]
    },
    {
     "name": "stdout",
     "output_type": "stream",
     "text": [
      "[CV 1/5] END .learning_rate=1, n_estimators=100;, score=0.710 total time=   5.8s\n",
      "[CV 2/5] END .learning_rate=1, n_estimators=500;, score=0.710 total time=  28.5s\n",
      "[CV 1/5] END learning_rate=1, n_estimators=1000;, score=0.710 total time=  57.0s\n",
      "[CV 1/5] END .learning_rate=2, n_estimators=100;, score=0.968 total time=   5.5s\n",
      "[CV 3/5] END .learning_rate=2, n_estimators=100;, score=0.968 total time=   5.6s\n",
      "[CV 5/5] END .learning_rate=2, n_estimators=100;, score=0.511 total time=   5.6s\n",
      "[CV 2/5] END .learning_rate=2, n_estimators=500;, score=0.968 total time=  28.1s\n",
      "[CV 5/5] END .learning_rate=2, n_estimators=500;, score=0.998 total time=  28.1s\n",
      "[CV 4/5] END learning_rate=2, n_estimators=1000;, score=0.968 total time=  56.2s\n",
      "[CV 1/5] END .learning_rate=3, n_estimators=500;, score=1.000 total time=  28.2s\n",
      "[CV 4/5] END .learning_rate=3, n_estimators=500;, score=1.000 total time=  28.2s\n",
      "[CV 3/5] END learning_rate=3, n_estimators=1000;, score=1.000 total time=  54.7s\n"
     ]
    },
    {
     "name": "stderr",
     "output_type": "stream",
     "text": [
      "/opt/conda/lib/python3.7/site-packages/sklearn/utils/validation.py:993: DataConversionWarning: A column-vector y was passed when a 1d array was expected. Please change the shape of y to (n_samples, ), for example using ravel().\n",
      "  y = column_or_1d(y, warn=True)\n",
      "/opt/conda/lib/python3.7/site-packages/sklearn/utils/validation.py:993: DataConversionWarning: A column-vector y was passed when a 1d array was expected. Please change the shape of y to (n_samples, ), for example using ravel().\n",
      "  y = column_or_1d(y, warn=True)\n",
      "/opt/conda/lib/python3.7/site-packages/sklearn/utils/validation.py:993: DataConversionWarning: A column-vector y was passed when a 1d array was expected. Please change the shape of y to (n_samples, ), for example using ravel().\n",
      "  y = column_or_1d(y, warn=True)\n",
      "/opt/conda/lib/python3.7/site-packages/sklearn/utils/validation.py:993: DataConversionWarning: A column-vector y was passed when a 1d array was expected. Please change the shape of y to (n_samples, ), for example using ravel().\n",
      "  y = column_or_1d(y, warn=True)\n",
      "/opt/conda/lib/python3.7/site-packages/sklearn/utils/validation.py:993: DataConversionWarning: A column-vector y was passed when a 1d array was expected. Please change the shape of y to (n_samples, ), for example using ravel().\n",
      "  y = column_or_1d(y, warn=True)\n",
      "/opt/conda/lib/python3.7/site-packages/sklearn/utils/validation.py:993: DataConversionWarning: A column-vector y was passed when a 1d array was expected. Please change the shape of y to (n_samples, ), for example using ravel().\n",
      "  y = column_or_1d(y, warn=True)\n",
      "/opt/conda/lib/python3.7/site-packages/sklearn/utils/validation.py:993: DataConversionWarning: A column-vector y was passed when a 1d array was expected. Please change the shape of y to (n_samples, ), for example using ravel().\n",
      "  y = column_or_1d(y, warn=True)\n",
      "/opt/conda/lib/python3.7/site-packages/sklearn/utils/validation.py:993: DataConversionWarning: A column-vector y was passed when a 1d array was expected. Please change the shape of y to (n_samples, ), for example using ravel().\n",
      "  y = column_or_1d(y, warn=True)\n",
      "/opt/conda/lib/python3.7/site-packages/sklearn/utils/validation.py:993: DataConversionWarning: A column-vector y was passed when a 1d array was expected. Please change the shape of y to (n_samples, ), for example using ravel().\n",
      "  y = column_or_1d(y, warn=True)\n",
      "/opt/conda/lib/python3.7/site-packages/sklearn/utils/validation.py:993: DataConversionWarning: A column-vector y was passed when a 1d array was expected. Please change the shape of y to (n_samples, ), for example using ravel().\n",
      "  y = column_or_1d(y, warn=True)\n",
      "/opt/conda/lib/python3.7/site-packages/sklearn/utils/validation.py:993: DataConversionWarning: A column-vector y was passed when a 1d array was expected. Please change the shape of y to (n_samples, ), for example using ravel().\n",
      "  y = column_or_1d(y, warn=True)\n",
      "/opt/conda/lib/python3.7/site-packages/sklearn/utils/validation.py:993: DataConversionWarning: A column-vector y was passed when a 1d array was expected. Please change the shape of y to (n_samples, ), for example using ravel().\n",
      "  y = column_or_1d(y, warn=True)\n",
      "/opt/conda/lib/python3.7/site-packages/sklearn/utils/validation.py:993: DataConversionWarning: A column-vector y was passed when a 1d array was expected. Please change the shape of y to (n_samples, ), for example using ravel().\n",
      "  y = column_or_1d(y, warn=True)\n"
     ]
    },
    {
     "name": "stdout",
     "output_type": "stream",
     "text": [
      "[CV 3/5] END .learning_rate=1, n_estimators=100;, score=0.710 total time=   5.5s\n",
      "[CV 5/5] END .learning_rate=1, n_estimators=100;, score=0.710 total time=   5.5s\n",
      "[CV 4/5] END .learning_rate=1, n_estimators=500;, score=0.710 total time=  28.6s\n",
      "[CV 3/5] END learning_rate=1, n_estimators=1000;, score=0.710 total time=  56.5s\n",
      "[CV 2/5] END .learning_rate=2, n_estimators=100;, score=0.968 total time=   5.6s\n",
      "[CV 4/5] END .learning_rate=2, n_estimators=100;, score=0.968 total time=   5.6s\n",
      "[CV 1/5] END .learning_rate=2, n_estimators=500;, score=0.968 total time=  28.0s\n",
      "[CV 4/5] END .learning_rate=2, n_estimators=500;, score=0.968 total time=  28.2s\n",
      "[CV 3/5] END learning_rate=2, n_estimators=1000;, score=0.968 total time=  56.0s\n",
      "[CV 4/5] END .learning_rate=3, n_estimators=100;, score=1.000 total time=   5.5s\n",
      "[CV 2/5] END .learning_rate=3, n_estimators=500;, score=1.000 total time=  27.9s\n",
      "[CV 5/5] END .learning_rate=3, n_estimators=500;, score=1.000 total time=  27.8s\n",
      "[CV 4/5] END learning_rate=3, n_estimators=1000;, score=1.000 total time=  52.5s\n",
      "[CV 2/5] END .learning_rate=1, n_estimators=100;, score=0.710 total time=   5.6s\n",
      "[CV 1/5] END .learning_rate=1, n_estimators=500;, score=0.710 total time=  28.3s\n",
      "[CV 5/5] END .learning_rate=1, n_estimators=500;, score=0.710 total time=  28.4s\n",
      "[CV 4/5] END learning_rate=1, n_estimators=1000;, score=0.710 total time=  56.2s\n",
      "[CV 3/5] END .learning_rate=2, n_estimators=500;, score=0.968 total time=  28.1s\n",
      "[CV 1/5] END learning_rate=2, n_estimators=1000;, score=0.968 total time=  56.2s\n",
      "[CV 1/5] END .learning_rate=3, n_estimators=100;, score=1.000 total time=   5.8s\n",
      "[CV 2/5] END .learning_rate=3, n_estimators=100;, score=1.000 total time=   5.5s\n",
      "[CV 3/5] END .learning_rate=3, n_estimators=100;, score=1.000 total time=   5.5s\n",
      "[CV 5/5] END .learning_rate=3, n_estimators=100;, score=1.000 total time=   5.6s\n",
      "[CV 3/5] END .learning_rate=3, n_estimators=500;, score=1.000 total time=  27.9s\n",
      "[CV 1/5] END learning_rate=3, n_estimators=1000;, score=1.000 total time=  56.0s\n",
      "[CV 5/5] END learning_rate=3, n_estimators=1000;, score=1.000 total time=  47.8s\n"
     ]
    },
    {
     "name": "stderr",
     "output_type": "stream",
     "text": [
      "/opt/conda/lib/python3.7/site-packages/sklearn/utils/validation.py:993: DataConversionWarning: A column-vector y was passed when a 1d array was expected. Please change the shape of y to (n_samples, ), for example using ravel().\n",
      "  y = column_or_1d(y, warn=True)\n",
      "/opt/conda/lib/python3.7/site-packages/sklearn/utils/validation.py:993: DataConversionWarning: A column-vector y was passed when a 1d array was expected. Please change the shape of y to (n_samples, ), for example using ravel().\n",
      "  y = column_or_1d(y, warn=True)\n",
      "/opt/conda/lib/python3.7/site-packages/sklearn/utils/validation.py:993: DataConversionWarning: A column-vector y was passed when a 1d array was expected. Please change the shape of y to (n_samples, ), for example using ravel().\n",
      "  y = column_or_1d(y, warn=True)\n",
      "/opt/conda/lib/python3.7/site-packages/sklearn/utils/validation.py:993: DataConversionWarning: A column-vector y was passed when a 1d array was expected. Please change the shape of y to (n_samples, ), for example using ravel().\n",
      "  y = column_or_1d(y, warn=True)\n",
      "/opt/conda/lib/python3.7/site-packages/sklearn/utils/validation.py:993: DataConversionWarning: A column-vector y was passed when a 1d array was expected. Please change the shape of y to (n_samples, ), for example using ravel().\n",
      "  y = column_or_1d(y, warn=True)\n",
      "/opt/conda/lib/python3.7/site-packages/sklearn/utils/validation.py:993: DataConversionWarning: A column-vector y was passed when a 1d array was expected. Please change the shape of y to (n_samples, ), for example using ravel().\n",
      "  y = column_or_1d(y, warn=True)\n",
      "/opt/conda/lib/python3.7/site-packages/sklearn/utils/validation.py:993: DataConversionWarning: A column-vector y was passed when a 1d array was expected. Please change the shape of y to (n_samples, ), for example using ravel().\n",
      "  y = column_or_1d(y, warn=True)\n",
      "/opt/conda/lib/python3.7/site-packages/sklearn/utils/validation.py:993: DataConversionWarning: A column-vector y was passed when a 1d array was expected. Please change the shape of y to (n_samples, ), for example using ravel().\n",
      "  y = column_or_1d(y, warn=True)\n",
      "/opt/conda/lib/python3.7/site-packages/sklearn/utils/validation.py:993: DataConversionWarning: A column-vector y was passed when a 1d array was expected. Please change the shape of y to (n_samples, ), for example using ravel().\n",
      "  y = column_or_1d(y, warn=True)\n",
      "/opt/conda/lib/python3.7/site-packages/sklearn/utils/validation.py:993: DataConversionWarning: A column-vector y was passed when a 1d array was expected. Please change the shape of y to (n_samples, ), for example using ravel().\n",
      "  y = column_or_1d(y, warn=True)\n",
      "/opt/conda/lib/python3.7/site-packages/sklearn/utils/validation.py:993: DataConversionWarning: A column-vector y was passed when a 1d array was expected. Please change the shape of y to (n_samples, ), for example using ravel().\n",
      "  y = column_or_1d(y, warn=True)\n",
      "/opt/conda/lib/python3.7/site-packages/sklearn/utils/validation.py:993: DataConversionWarning: A column-vector y was passed when a 1d array was expected. Please change the shape of y to (n_samples, ), for example using ravel().\n",
      "  y = column_or_1d(y, warn=True)\n",
      "/opt/conda/lib/python3.7/site-packages/sklearn/utils/validation.py:993: DataConversionWarning: A column-vector y was passed when a 1d array was expected. Please change the shape of y to (n_samples, ), for example using ravel().\n",
      "  y = column_or_1d(y, warn=True)\n"
     ]
    }
   ],
   "source": [
    "parameters = {\n",
    "    'learning_rate': [1, 2, 3],\n",
    "    'n_estimators': [100, 500, 1000]\n",
    "}\n",
    "\n",
    "cv = GridSearchCV(ab, param_grid=parameters, scoring='f1_micro', n_jobs=-1, verbose=3)\n",
    "cv.fit(X_train, y_train)"
   ]
  },
  {
   "cell_type": "code",
   "execution_count": 217,
   "metadata": {
    "execution": {
     "iopub.execute_input": "2022-12-01T10:25:43.698127Z",
     "iopub.status.busy": "2022-12-01T10:25:43.697719Z",
     "iopub.status.idle": "2022-12-01T10:25:43.707414Z",
     "shell.execute_reply": "2022-12-01T10:25:43.706236Z",
     "shell.execute_reply.started": "2022-12-01T10:25:43.698100Z"
    }
   },
   "outputs": [
    {
     "data": {
      "text/plain": [
       "GridSearchCV(estimator=AdaBoostClassifier(), n_jobs=-1,\n",
       "             param_grid={'learning_rate': [1, 2, 3],\n",
       "                         'n_estimators': [100, 500, 1000]},\n",
       "             scoring='f1_micro', verbose=3)"
      ]
     },
     "execution_count": 217,
     "metadata": {},
     "output_type": "execute_result"
    }
   ],
   "source": [
    "GridSearchCV(estimator=AdaBoostClassifier(), n_jobs=-1,\n",
    "             param_grid={'learning_rate': [1, 2, 3],\n",
    "                         'n_estimators': [100, 500, 1000]},\n",
    "             scoring='f1_micro', verbose=3)"
   ]
  },
  {
   "cell_type": "code",
   "execution_count": 218,
   "metadata": {
    "execution": {
     "iopub.execute_input": "2022-12-01T10:26:10.451268Z",
     "iopub.status.busy": "2022-12-01T10:26:10.450896Z",
     "iopub.status.idle": "2022-12-01T10:26:10.809622Z",
     "shell.execute_reply": "2022-12-01T10:26:10.808007Z",
     "shell.execute_reply.started": "2022-12-01T10:26:10.451234Z"
    }
   },
   "outputs": [
    {
     "name": "stdout",
     "output_type": "stream",
     "text": [
      "              precision    recall  f1-score   support\n",
      "\n",
      "           0       1.00      1.00      1.00      5672\n",
      "           1       1.00      1.00      1.00         2\n",
      "           2       1.00      1.00      1.00      5675\n",
      "           3       1.00      1.00      1.00      9803\n",
      "           4       1.00      1.00      1.00       640\n",
      "           5       1.00      1.00      1.00        51\n",
      "\n",
      "    accuracy                           1.00     21843\n",
      "   macro avg       1.00      1.00      1.00     21843\n",
      "weighted avg       1.00      1.00      1.00     21843\n",
      "\n"
     ]
    }
   ],
   "source": [
    "#predicting values from GridSearchCV\n",
    "y_pred = cv.predict(X_test)\n",
    "\n",
    "# show classification report on test data\n",
    "print(classification_report(y_test.values, y_pred, zero_division=1))"
   ]
  },
  {
   "cell_type": "markdown",
   "metadata": {},
   "source": [
    "we get a little improvement in our model using hyperparameter tuning"
   ]
  },
  {
   "cell_type": "markdown",
   "metadata": {},
   "source": [
    "## Testing User Input:"
   ]
  },
  {
   "cell_type": "code",
   "execution_count": 220,
   "metadata": {
    "execution": {
     "iopub.execute_input": "2022-12-01T10:40:24.851685Z",
     "iopub.status.busy": "2022-12-01T10:40:24.851262Z",
     "iopub.status.idle": "2022-12-01T10:40:24.868494Z",
     "shell.execute_reply": "2022-12-01T10:40:24.867269Z",
     "shell.execute_reply.started": "2022-12-01T10:40:24.851652Z"
    }
   },
   "outputs": [
    {
     "name": "stdout",
     "output_type": "stream",
     "text": [
      "The categorie is:\n",
      "Micro\n"
     ]
    }
   ],
   "source": [
    "input=[[2.42,-4.20,128.09700,5.0]]\n",
    "ot = ab.predict(input)\n",
    "print(\"The categorie is:\")\n",
    "if(ot<3):\n",
    "    print(\"Micro\")\n",
    "elif(ot<4):\n",
    "    print(\"Minor\")\n",
    "elif(ot<5):\n",
    "    print(\"Light\")\n",
    "elif(ot<6):\n",
    "    print(\"Moderate\")\n",
    "elif(ot<7):\n",
    "    print(\"Strong\")\n",
    "elif(ot<8):\n",
    "    print(\"Major\")    \n",
    "else:\n",
    "    print(\"Great\")"
   ]
  },
  {
   "cell_type": "markdown",
   "metadata": {},
   "source": [
    "# ANALYSIS AND INSIGHT \n",
    "- Based on the data, from 2011 - 2020 in Indonesia, most of the earthquake happened in **2015 to 2019**.\n",
    "- Based on the data, from 2011 - 2020 in Indonesia, most of the earthquake happened in **quarter 2 to quarter 4**.\n",
    "- Based on the data, from 2011 - 2020 in Indonesia, most of the earthquake happened in **April to September**.\n",
    "- Based on the data, from 2011 - 2020 in Indonesia, most of the earthquake happened had **latitude area** range **-8.00 to 0.00**.\n",
    "- Based on the data, from 2011 - 2020 in Indonesia, most of the earthquake happened had **ongitude area** range **115 to 125**.\n",
    "- Based on the data, from 2011 - 2020 in Indonesia, most of the earthquake happened had **depth area** range value **under 60**.\n",
    "- Based on the data, from 2011 - 2020 in Indonesia, most of the earthquake happened had **magnitude around 3 to 4**.\n",
    "- **2018 and 2019** were the **year** with highest earthquake phenomenon amount.\n",
    "- **Quarter 3** was **quarter** with the highest earthquake phenomenon amount.\n",
    "- **Month 8 (August)** was **month** with the highest earthquake phenomenon amount.\n",
    "- **Latitude around -10 to -7.5** was **latitude area** with higheset phenomenon amount.\n",
    "- **Longitude around 115 to 130** was **longitude area** with highest phenomenon amount.\n",
    "- Most of the eaerhquake phenomenon happened **near 0 depth value**.\n",
    "- **Magnitude around 3.3** was **magnitude value** with highest earthquake phenomenon amount.\n",
    "- Luckily most of the **earthquake phenomenon** happened when people awoke (**Morning, Afternoon, Evening**).\n",
    "- Most of the earthquake phenomenon was **minor earthquake category** with **magnitude range 3.0 to 3.9 that felt by many people but cause no damage**.\n",
    "- Most of the earthquake phenomenon happened in **dry season**.\n",
    "- Most of the earthquake phenomenon was **shallow earthquake category with depth range from 0.0 to 70 .0 km**.\n",
    "- Most of the earthquake phenomenon happened in **area 0**.\n",
    "- 2 Cluster summary already written above.\n",
    "\n",
    "# SUMMARY\n",
    "This is the analysis and insight of Indonesia earthquake phenomenon from 2011 to 2020 based on [Earthquake Occurrence](https://www.kaggle.com/datasets/greegtitan/indonesia-earthquake-data). There are also cluster that made based on the data. Thank you for reviewing and checking this notebook."
   ]
  }
 ],
 "metadata": {
  "kernelspec": {
   "display_name": "Python 3 (ipykernel)",
   "language": "python",
   "name": "python3"
  },
  "language_info": {
   "codemirror_mode": {
    "name": "ipython",
    "version": 3
   },
   "file_extension": ".py",
   "mimetype": "text/x-python",
   "name": "python",
   "nbconvert_exporter": "python",
   "pygments_lexer": "ipython3",
   "version": "3.9.12"
  }
 },
 "nbformat": 4,
 "nbformat_minor": 4
}
