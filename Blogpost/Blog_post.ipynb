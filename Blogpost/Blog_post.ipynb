{
 "cells": [
  {
   "cell_type": "markdown",
   "id": "40883012",
   "metadata": {},
   "source": [
    "# INDONESIAN MOVIES ON NETFLIX"
   ]
  },
  {
   "cell_type": "markdown",
   "id": "6fb944c5",
   "metadata": {},
   "source": [
    "## Table of Contents :\n",
    "1. [INTRODUCTION](#1)\n",
    "2. [NETFLIX DATA IN GENERAL](#2) \n",
    "3. [WHAT IS THE NUMBER OF COMPARISONS FOR INDONESIAN TV SHOWS AND MOVIES ?](#3)\n",
    "4. [HOW MANY INDONESIAN MOVIES WAS RELEASED EACH YEAR ON NETFLIX ?](#4)\n",
    "5. [HOW MANY INDONESIAN MOVIES RATING & GENRE ARE THERE ON NETFLIX ?](#5)\n",
    "6. [WHO ARE THE MOVIE DIRECTORS & ACTORS FROM INDONESIA ?](#6)\n",
    "7. [CONCLUSION](#7)"
   ]
  },
  {
   "cell_type": "markdown",
   "id": "5ae9c1c8",
   "metadata": {},
   "source": [
    "## **1. INTRODUCTION** <a name=\"1\"></a>"
   ]
  },
  {
   "cell_type": "markdown",
   "id": "2748174a",
   "metadata": {},
   "source": [
    "**Netflix** is a streaming service that allows our members to watch a wide variety of award-winning TV shows, movies, documentaries, and more on thousands of internet-connected devices In over 190 countries.\n",
    "\n",
    "Indonesian movies on netflix are increasingly taking an international watch. More and more of these high-quality Indonesian movies have sprung up. This shows how Indonesian movies industry has grown. Not just playing in theaters, an Indonesian movies can be enjoyed through the netflix streaming service. You can go to movies that have been shown long and new at any time or place. long and new at any time or place. \n",
    "\n",
    "But on this occasion I'm not going to discuss how good Indonesian movies  are. I'm trying to show you facts or insights about Indonesian movies on Netflix."
   ]
  },
  {
   "cell_type": "markdown",
   "id": "bcf68aba",
   "metadata": {},
   "source": [
    "## Context\n",
    "\n",
    "- What : Netflix is a streaming service that allows our members to watch a wide variety of award-winning TV shows, movies, documentaries, and more on thousands of internet-connected devices In over 190 countries.\n",
    "- Who : Who wants to know about Indonesian movies on netflix\n",
    "- Where : Indonesian Movies on Netflix.com from datasets : netflix_titles.csv at https://www.kaggle.com/code/manjunathgb/practical-4/data\n",
    "- When : 2008 - 2021, excluding data in 2022.\n",
    "- Why : I want to show you facts or insights about Indonesian movies on Netflix.\n",
    "- How : I use numpy, pandas, matplotlib, and seaborn libraries. I put my code in note book called 'Blog Post.ipnyb' and the result can give us some insight about Indonesian Movies on Netflix. And also, I will focus on the Indonesian movies data alone, because For a TV show in Indonesia, there are only two data.\n"
   ]
  },
  {
   "cell_type": "markdown",
   "id": "11e5d263",
   "metadata": {},
   "source": [
    "### *Importing all the necessary libraries*"
   ]
  },
  {
   "cell_type": "code",
   "execution_count": 1,
   "id": "7aa373f1",
   "metadata": {},
   "outputs": [],
   "source": [
    "import numpy as np # linear algebra\n",
    "import pandas as pd # data processing, CSV file I/O (e.g. pd.read_csv)\n",
    "import seaborn as sns\n",
    "import matplotlib.pyplot as plt\n",
    "import plotly.express as px\n",
    "import plotly.graph_objects as go\n",
    "from textblob import TextBlob"
   ]
  },
  {
   "cell_type": "markdown",
   "id": "d0fcfc87",
   "metadata": {},
   "source": [
    "### *Importing the dataset*"
   ]
  },
  {
   "cell_type": "code",
   "execution_count": 2,
   "id": "2d7c8eb1",
   "metadata": {},
   "outputs": [
    {
     "data": {
      "text/html": [
       "<div>\n",
       "<style scoped>\n",
       "    .dataframe tbody tr th:only-of-type {\n",
       "        vertical-align: middle;\n",
       "    }\n",
       "\n",
       "    .dataframe tbody tr th {\n",
       "        vertical-align: top;\n",
       "    }\n",
       "\n",
       "    .dataframe thead th {\n",
       "        text-align: right;\n",
       "    }\n",
       "</style>\n",
       "<table border=\"1\" class=\"dataframe\">\n",
       "  <thead>\n",
       "    <tr style=\"text-align: right;\">\n",
       "      <th></th>\n",
       "      <th>show_id</th>\n",
       "      <th>type</th>\n",
       "      <th>title</th>\n",
       "      <th>director</th>\n",
       "      <th>cast</th>\n",
       "      <th>country</th>\n",
       "      <th>date_added</th>\n",
       "      <th>release_year</th>\n",
       "      <th>rating</th>\n",
       "      <th>duration</th>\n",
       "      <th>listed_in</th>\n",
       "      <th>description</th>\n",
       "    </tr>\n",
       "  </thead>\n",
       "  <tbody>\n",
       "    <tr>\n",
       "      <th>0</th>\n",
       "      <td>s1</td>\n",
       "      <td>Movie</td>\n",
       "      <td>Dick Johnson Is Dead</td>\n",
       "      <td>Kirsten Johnson</td>\n",
       "      <td>NaN</td>\n",
       "      <td>United States</td>\n",
       "      <td>September 25, 2021</td>\n",
       "      <td>2020</td>\n",
       "      <td>PG-13</td>\n",
       "      <td>90 min</td>\n",
       "      <td>Documentaries</td>\n",
       "      <td>As her father nears the end of his life, filmm...</td>\n",
       "    </tr>\n",
       "    <tr>\n",
       "      <th>1</th>\n",
       "      <td>s2</td>\n",
       "      <td>TV Show</td>\n",
       "      <td>Blood &amp; Water</td>\n",
       "      <td>NaN</td>\n",
       "      <td>Ama Qamata, Khosi Ngema, Gail Mabalane, Thaban...</td>\n",
       "      <td>South Africa</td>\n",
       "      <td>September 24, 2021</td>\n",
       "      <td>2021</td>\n",
       "      <td>TV-MA</td>\n",
       "      <td>2 Seasons</td>\n",
       "      <td>International TV Shows, TV Dramas, TV Mysteries</td>\n",
       "      <td>After crossing paths at a party, a Cape Town t...</td>\n",
       "    </tr>\n",
       "    <tr>\n",
       "      <th>2</th>\n",
       "      <td>s3</td>\n",
       "      <td>TV Show</td>\n",
       "      <td>Ganglands</td>\n",
       "      <td>Julien Leclercq</td>\n",
       "      <td>Sami Bouajila, Tracy Gotoas, Samuel Jouy, Nabi...</td>\n",
       "      <td>NaN</td>\n",
       "      <td>September 24, 2021</td>\n",
       "      <td>2021</td>\n",
       "      <td>TV-MA</td>\n",
       "      <td>1 Season</td>\n",
       "      <td>Crime TV Shows, International TV Shows, TV Act...</td>\n",
       "      <td>To protect his family from a powerful drug lor...</td>\n",
       "    </tr>\n",
       "    <tr>\n",
       "      <th>3</th>\n",
       "      <td>s4</td>\n",
       "      <td>TV Show</td>\n",
       "      <td>Jailbirds New Orleans</td>\n",
       "      <td>NaN</td>\n",
       "      <td>NaN</td>\n",
       "      <td>NaN</td>\n",
       "      <td>September 24, 2021</td>\n",
       "      <td>2021</td>\n",
       "      <td>TV-MA</td>\n",
       "      <td>1 Season</td>\n",
       "      <td>Docuseries, Reality TV</td>\n",
       "      <td>Feuds, flirtations and toilet talk go down amo...</td>\n",
       "    </tr>\n",
       "    <tr>\n",
       "      <th>4</th>\n",
       "      <td>s5</td>\n",
       "      <td>TV Show</td>\n",
       "      <td>Kota Factory</td>\n",
       "      <td>NaN</td>\n",
       "      <td>Mayur More, Jitendra Kumar, Ranjan Raj, Alam K...</td>\n",
       "      <td>India</td>\n",
       "      <td>September 24, 2021</td>\n",
       "      <td>2021</td>\n",
       "      <td>TV-MA</td>\n",
       "      <td>2 Seasons</td>\n",
       "      <td>International TV Shows, Romantic TV Shows, TV ...</td>\n",
       "      <td>In a city of coaching centers known to train I...</td>\n",
       "    </tr>\n",
       "  </tbody>\n",
       "</table>\n",
       "</div>"
      ],
      "text/plain": [
       "  show_id     type                  title         director  \\\n",
       "0      s1    Movie   Dick Johnson Is Dead  Kirsten Johnson   \n",
       "1      s2  TV Show          Blood & Water              NaN   \n",
       "2      s3  TV Show              Ganglands  Julien Leclercq   \n",
       "3      s4  TV Show  Jailbirds New Orleans              NaN   \n",
       "4      s5  TV Show           Kota Factory              NaN   \n",
       "\n",
       "                                                cast        country  \\\n",
       "0                                                NaN  United States   \n",
       "1  Ama Qamata, Khosi Ngema, Gail Mabalane, Thaban...   South Africa   \n",
       "2  Sami Bouajila, Tracy Gotoas, Samuel Jouy, Nabi...            NaN   \n",
       "3                                                NaN            NaN   \n",
       "4  Mayur More, Jitendra Kumar, Ranjan Raj, Alam K...          India   \n",
       "\n",
       "           date_added  release_year rating   duration  \\\n",
       "0  September 25, 2021          2020  PG-13     90 min   \n",
       "1  September 24, 2021          2021  TV-MA  2 Seasons   \n",
       "2  September 24, 2021          2021  TV-MA   1 Season   \n",
       "3  September 24, 2021          2021  TV-MA   1 Season   \n",
       "4  September 24, 2021          2021  TV-MA  2 Seasons   \n",
       "\n",
       "                                           listed_in  \\\n",
       "0                                      Documentaries   \n",
       "1    International TV Shows, TV Dramas, TV Mysteries   \n",
       "2  Crime TV Shows, International TV Shows, TV Act...   \n",
       "3                             Docuseries, Reality TV   \n",
       "4  International TV Shows, Romantic TV Shows, TV ...   \n",
       "\n",
       "                                         description  \n",
       "0  As her father nears the end of his life, filmm...  \n",
       "1  After crossing paths at a party, a Cape Town t...  \n",
       "2  To protect his family from a powerful drug lor...  \n",
       "3  Feuds, flirtations and toilet talk go down amo...  \n",
       "4  In a city of coaching centers known to train I...  "
      ]
     },
     "execution_count": 2,
     "metadata": {},
     "output_type": "execute_result"
    }
   ],
   "source": [
    "df = pd.read_csv('./netflix_titles.csv')\n",
    "df.head(5)"
   ]
  },
  {
   "cell_type": "code",
   "execution_count": 3,
   "id": "8d2ef578",
   "metadata": {},
   "outputs": [
    {
     "data": {
      "text/plain": [
       "(8807, 12)"
      ]
     },
     "execution_count": 3,
     "metadata": {},
     "output_type": "execute_result"
    }
   ],
   "source": [
    "df.shape"
   ]
  },
  {
   "cell_type": "markdown",
   "id": "ca25e615",
   "metadata": {},
   "source": [
    "Our data set has 12 features and 8807 examples"
   ]
  },
  {
   "cell_type": "code",
   "execution_count": 4,
   "id": "cc10af9e",
   "metadata": {},
   "outputs": [
    {
     "name": "stdout",
     "output_type": "stream",
     "text": [
      "<class 'pandas.core.frame.DataFrame'>\n",
      "RangeIndex: 8807 entries, 0 to 8806\n",
      "Data columns (total 12 columns):\n",
      " #   Column        Non-Null Count  Dtype \n",
      "---  ------        --------------  ----- \n",
      " 0   show_id       8807 non-null   object\n",
      " 1   type          8807 non-null   object\n",
      " 2   title         8807 non-null   object\n",
      " 3   director      6173 non-null   object\n",
      " 4   cast          7982 non-null   object\n",
      " 5   country       7976 non-null   object\n",
      " 6   date_added    8797 non-null   object\n",
      " 7   release_year  8807 non-null   int64 \n",
      " 8   rating        8803 non-null   object\n",
      " 9   duration      8804 non-null   object\n",
      " 10  listed_in     8807 non-null   object\n",
      " 11  description   8807 non-null   object\n",
      "dtypes: int64(1), object(11)\n",
      "memory usage: 825.8+ KB\n"
     ]
    }
   ],
   "source": [
    "df.info()"
   ]
  },
  {
   "cell_type": "markdown",
   "id": "5ca822a5",
   "metadata": {},
   "source": [
    "### *Data Cleaning*"
   ]
  },
  {
   "cell_type": "code",
   "execution_count": 5,
   "id": "324d3e0d",
   "metadata": {},
   "outputs": [
    {
     "data": {
      "text/plain": [
       "show_id            0\n",
       "type               0\n",
       "title              0\n",
       "director        2634\n",
       "cast             825\n",
       "country          831\n",
       "date_added        10\n",
       "release_year       0\n",
       "rating             4\n",
       "duration           3\n",
       "listed_in          0\n",
       "description        0\n",
       "dtype: int64"
      ]
     },
     "execution_count": 5,
     "metadata": {},
     "output_type": "execute_result"
    }
   ],
   "source": [
    "df.isna().sum()"
   ]
  },
  {
   "cell_type": "markdown",
   "id": "c79d2e22",
   "metadata": {},
   "source": [
    "The missing values are in:\n",
    "\n",
    "- director: Very less information-not needed for the analysis so I will be leting this\n",
    "- cast: this var has too many diferent values too so I will be leting this\n",
    "- country: this is a importante variable so wi will think how to fix it (maybe mode)\n",
    "- date_added: there are just a few cases, so lets scrap them\n",
    "- rating: there are just a few cases, so lets scrap them\n",
    "- duration : there are just a few cases, so lets scrap them"
   ]
  },
  {
   "cell_type": "markdown",
   "id": "95be6ac9",
   "metadata": {},
   "source": [
    "### *Let's fix the missing \"rating\"*"
   ]
  },
  {
   "cell_type": "code",
   "execution_count": 6,
   "id": "587c7c30",
   "metadata": {},
   "outputs": [
    {
     "data": {
      "text/plain": [
       "array(['PG-13', 'TV-MA', 'PG', 'TV-14', 'TV-PG', 'TV-Y', 'TV-Y7', 'R',\n",
       "       'TV-G', 'G', 'NC-17', '74 min', '84 min', '66 min', 'NR', nan,\n",
       "       'TV-Y7-FV', 'UR'], dtype=object)"
      ]
     },
     "execution_count": 6,
     "metadata": {},
     "output_type": "execute_result"
    }
   ],
   "source": [
    "df[\"rating\"].unique()"
   ]
  },
  {
   "cell_type": "code",
   "execution_count": 7,
   "id": "c64cc84f",
   "metadata": {},
   "outputs": [
    {
     "data": {
      "text/html": [
       "<div>\n",
       "<style scoped>\n",
       "    .dataframe tbody tr th:only-of-type {\n",
       "        vertical-align: middle;\n",
       "    }\n",
       "\n",
       "    .dataframe tbody tr th {\n",
       "        vertical-align: top;\n",
       "    }\n",
       "\n",
       "    .dataframe thead th {\n",
       "        text-align: right;\n",
       "    }\n",
       "</style>\n",
       "<table border=\"1\" class=\"dataframe\">\n",
       "  <thead>\n",
       "    <tr style=\"text-align: right;\">\n",
       "      <th></th>\n",
       "      <th>show_id</th>\n",
       "      <th>type</th>\n",
       "      <th>title</th>\n",
       "      <th>director</th>\n",
       "      <th>cast</th>\n",
       "      <th>country</th>\n",
       "      <th>date_added</th>\n",
       "      <th>release_year</th>\n",
       "      <th>rating</th>\n",
       "      <th>duration</th>\n",
       "      <th>listed_in</th>\n",
       "      <th>description</th>\n",
       "    </tr>\n",
       "  </thead>\n",
       "  <tbody>\n",
       "    <tr>\n",
       "      <th>5989</th>\n",
       "      <td>s5990</td>\n",
       "      <td>Movie</td>\n",
       "      <td>13TH: A Conversation with Oprah Winfrey &amp; Ava ...</td>\n",
       "      <td>NaN</td>\n",
       "      <td>Oprah Winfrey, Ava DuVernay</td>\n",
       "      <td>NaN</td>\n",
       "      <td>January 26, 2017</td>\n",
       "      <td>2017</td>\n",
       "      <td>NaN</td>\n",
       "      <td>37 min</td>\n",
       "      <td>Movies</td>\n",
       "      <td>Oprah Winfrey sits down with director Ava DuVe...</td>\n",
       "    </tr>\n",
       "    <tr>\n",
       "      <th>6827</th>\n",
       "      <td>s6828</td>\n",
       "      <td>TV Show</td>\n",
       "      <td>Gargantia on the Verdurous Planet</td>\n",
       "      <td>NaN</td>\n",
       "      <td>Kaito Ishikawa, Hisako Kanemoto, Ai Kayano, Ka...</td>\n",
       "      <td>Japan</td>\n",
       "      <td>December 1, 2016</td>\n",
       "      <td>2013</td>\n",
       "      <td>NaN</td>\n",
       "      <td>1 Season</td>\n",
       "      <td>Anime Series, International TV Shows</td>\n",
       "      <td>After falling through a wormhole, a space-dwel...</td>\n",
       "    </tr>\n",
       "    <tr>\n",
       "      <th>7312</th>\n",
       "      <td>s7313</td>\n",
       "      <td>TV Show</td>\n",
       "      <td>Little Lunch</td>\n",
       "      <td>NaN</td>\n",
       "      <td>Flynn Curry, Olivia Deeble, Madison Lu, Oisín ...</td>\n",
       "      <td>Australia</td>\n",
       "      <td>February 1, 2018</td>\n",
       "      <td>2015</td>\n",
       "      <td>NaN</td>\n",
       "      <td>1 Season</td>\n",
       "      <td>Kids' TV, TV Comedies</td>\n",
       "      <td>Adopting a child's perspective, this show take...</td>\n",
       "    </tr>\n",
       "    <tr>\n",
       "      <th>7537</th>\n",
       "      <td>s7538</td>\n",
       "      <td>Movie</td>\n",
       "      <td>My Honor Was Loyalty</td>\n",
       "      <td>Alessandro Pepe</td>\n",
       "      <td>Leone Frisa, Paolo Vaccarino, Francesco Miglio...</td>\n",
       "      <td>Italy</td>\n",
       "      <td>March 1, 2017</td>\n",
       "      <td>2015</td>\n",
       "      <td>NaN</td>\n",
       "      <td>115 min</td>\n",
       "      <td>Dramas</td>\n",
       "      <td>Amid the chaos and horror of World War II, a c...</td>\n",
       "    </tr>\n",
       "  </tbody>\n",
       "</table>\n",
       "</div>"
      ],
      "text/plain": [
       "     show_id     type                                              title  \\\n",
       "5989   s5990    Movie  13TH: A Conversation with Oprah Winfrey & Ava ...   \n",
       "6827   s6828  TV Show                  Gargantia on the Verdurous Planet   \n",
       "7312   s7313  TV Show                                       Little Lunch   \n",
       "7537   s7538    Movie                               My Honor Was Loyalty   \n",
       "\n",
       "             director                                               cast  \\\n",
       "5989              NaN                        Oprah Winfrey, Ava DuVernay   \n",
       "6827              NaN  Kaito Ishikawa, Hisako Kanemoto, Ai Kayano, Ka...   \n",
       "7312              NaN  Flynn Curry, Olivia Deeble, Madison Lu, Oisín ...   \n",
       "7537  Alessandro Pepe  Leone Frisa, Paolo Vaccarino, Francesco Miglio...   \n",
       "\n",
       "        country        date_added  release_year rating  duration  \\\n",
       "5989        NaN  January 26, 2017          2017    NaN    37 min   \n",
       "6827      Japan  December 1, 2016          2013    NaN  1 Season   \n",
       "7312  Australia  February 1, 2018          2015    NaN  1 Season   \n",
       "7537      Italy     March 1, 2017          2015    NaN   115 min   \n",
       "\n",
       "                                 listed_in  \\\n",
       "5989                                Movies   \n",
       "6827  Anime Series, International TV Shows   \n",
       "7312                 Kids' TV, TV Comedies   \n",
       "7537                                Dramas   \n",
       "\n",
       "                                            description  \n",
       "5989  Oprah Winfrey sits down with director Ava DuVe...  \n",
       "6827  After falling through a wormhole, a space-dwel...  \n",
       "7312  Adopting a child's perspective, this show take...  \n",
       "7537  Amid the chaos and horror of World War II, a c...  "
      ]
     },
     "execution_count": 7,
     "metadata": {},
     "output_type": "execute_result"
    }
   ],
   "source": [
    "df[df[\"rating\"].isna()]"
   ]
  },
  {
   "cell_type": "markdown",
   "id": "75675ba8",
   "metadata": {},
   "source": [
    "Since there are only 4 rows so I decided to find there replacements from internet."
   ]
  },
  {
   "cell_type": "code",
   "execution_count": 8,
   "id": "ac454e46",
   "metadata": {},
   "outputs": [
    {
     "data": {
      "text/plain": [
       "0"
      ]
     },
     "execution_count": 8,
     "metadata": {},
     "output_type": "execute_result"
    }
   ],
   "source": [
    "rating_replacements = {\n",
    "    5989: 'TV-PG',\n",
    "    6827: 'TV-14',\n",
    "    7312: 'TV-MA',\n",
    "    7537: 'TV-MA',\n",
    "}\n",
    "\n",
    "for id, rate in rating_replacements.items():\n",
    "    df.iloc[id, 8] = rate\n",
    "    \n",
    "df['rating'].isna().sum()"
   ]
  },
  {
   "cell_type": "markdown",
   "id": "2c8e3cc5",
   "metadata": {},
   "source": [
    "### *Fix \"date_added\" column*"
   ]
  },
  {
   "cell_type": "code",
   "execution_count": 9,
   "id": "61df6454",
   "metadata": {},
   "outputs": [
    {
     "data": {
      "text/html": [
       "<div>\n",
       "<style scoped>\n",
       "    .dataframe tbody tr th:only-of-type {\n",
       "        vertical-align: middle;\n",
       "    }\n",
       "\n",
       "    .dataframe tbody tr th {\n",
       "        vertical-align: top;\n",
       "    }\n",
       "\n",
       "    .dataframe thead th {\n",
       "        text-align: right;\n",
       "    }\n",
       "</style>\n",
       "<table border=\"1\" class=\"dataframe\">\n",
       "  <thead>\n",
       "    <tr style=\"text-align: right;\">\n",
       "      <th></th>\n",
       "      <th>show_id</th>\n",
       "      <th>type</th>\n",
       "      <th>title</th>\n",
       "      <th>director</th>\n",
       "      <th>cast</th>\n",
       "      <th>country</th>\n",
       "      <th>date_added</th>\n",
       "      <th>release_year</th>\n",
       "      <th>rating</th>\n",
       "      <th>duration</th>\n",
       "      <th>listed_in</th>\n",
       "      <th>description</th>\n",
       "    </tr>\n",
       "  </thead>\n",
       "  <tbody>\n",
       "    <tr>\n",
       "      <th>6066</th>\n",
       "      <td>s6067</td>\n",
       "      <td>TV Show</td>\n",
       "      <td>A Young Doctor's Notebook and Other Stories</td>\n",
       "      <td>NaN</td>\n",
       "      <td>Daniel Radcliffe, Jon Hamm, Adam Godley, Chris...</td>\n",
       "      <td>United Kingdom</td>\n",
       "      <td>NaN</td>\n",
       "      <td>2013</td>\n",
       "      <td>TV-MA</td>\n",
       "      <td>2 Seasons</td>\n",
       "      <td>British TV Shows, TV Comedies, TV Dramas</td>\n",
       "      <td>Set during the Russian Revolution, this comic ...</td>\n",
       "    </tr>\n",
       "    <tr>\n",
       "      <th>6174</th>\n",
       "      <td>s6175</td>\n",
       "      <td>TV Show</td>\n",
       "      <td>Anthony Bourdain: Parts Unknown</td>\n",
       "      <td>NaN</td>\n",
       "      <td>Anthony Bourdain</td>\n",
       "      <td>United States</td>\n",
       "      <td>NaN</td>\n",
       "      <td>2018</td>\n",
       "      <td>TV-PG</td>\n",
       "      <td>5 Seasons</td>\n",
       "      <td>Docuseries</td>\n",
       "      <td>This CNN original series has chef Anthony Bour...</td>\n",
       "    </tr>\n",
       "    <tr>\n",
       "      <th>6795</th>\n",
       "      <td>s6796</td>\n",
       "      <td>TV Show</td>\n",
       "      <td>Frasier</td>\n",
       "      <td>NaN</td>\n",
       "      <td>Kelsey Grammer, Jane Leeves, David Hyde Pierce...</td>\n",
       "      <td>United States</td>\n",
       "      <td>NaN</td>\n",
       "      <td>2003</td>\n",
       "      <td>TV-PG</td>\n",
       "      <td>11 Seasons</td>\n",
       "      <td>Classic &amp; Cult TV, TV Comedies</td>\n",
       "      <td>Frasier Crane is a snooty but lovable Seattle ...</td>\n",
       "    </tr>\n",
       "    <tr>\n",
       "      <th>6806</th>\n",
       "      <td>s6807</td>\n",
       "      <td>TV Show</td>\n",
       "      <td>Friends</td>\n",
       "      <td>NaN</td>\n",
       "      <td>Jennifer Aniston, Courteney Cox, Lisa Kudrow, ...</td>\n",
       "      <td>United States</td>\n",
       "      <td>NaN</td>\n",
       "      <td>2003</td>\n",
       "      <td>TV-14</td>\n",
       "      <td>10 Seasons</td>\n",
       "      <td>Classic &amp; Cult TV, TV Comedies</td>\n",
       "      <td>This hit sitcom follows the merry misadventure...</td>\n",
       "    </tr>\n",
       "    <tr>\n",
       "      <th>6901</th>\n",
       "      <td>s6902</td>\n",
       "      <td>TV Show</td>\n",
       "      <td>Gunslinger Girl</td>\n",
       "      <td>NaN</td>\n",
       "      <td>Yuuka Nanri, Kanako Mitsuhashi, Eri Sendai, Am...</td>\n",
       "      <td>Japan</td>\n",
       "      <td>NaN</td>\n",
       "      <td>2008</td>\n",
       "      <td>TV-14</td>\n",
       "      <td>2 Seasons</td>\n",
       "      <td>Anime Series, Crime TV Shows</td>\n",
       "      <td>On the surface, the Social Welfare Agency appe...</td>\n",
       "    </tr>\n",
       "    <tr>\n",
       "      <th>7196</th>\n",
       "      <td>s7197</td>\n",
       "      <td>TV Show</td>\n",
       "      <td>Kikoriki</td>\n",
       "      <td>NaN</td>\n",
       "      <td>Igor Dmitriev</td>\n",
       "      <td>NaN</td>\n",
       "      <td>NaN</td>\n",
       "      <td>2010</td>\n",
       "      <td>TV-Y</td>\n",
       "      <td>2 Seasons</td>\n",
       "      <td>Kids' TV</td>\n",
       "      <td>A wacky rabbit and his gang of animal pals hav...</td>\n",
       "    </tr>\n",
       "    <tr>\n",
       "      <th>7254</th>\n",
       "      <td>s7255</td>\n",
       "      <td>TV Show</td>\n",
       "      <td>La Familia P. Luche</td>\n",
       "      <td>NaN</td>\n",
       "      <td>Eugenio Derbez, Consuelo Duval, Luis Manuel Áv...</td>\n",
       "      <td>United States</td>\n",
       "      <td>NaN</td>\n",
       "      <td>2012</td>\n",
       "      <td>TV-14</td>\n",
       "      <td>3 Seasons</td>\n",
       "      <td>International TV Shows, Spanish-Language TV Sh...</td>\n",
       "      <td>This irreverent sitcom featues Ludovico, Feder...</td>\n",
       "    </tr>\n",
       "    <tr>\n",
       "      <th>7406</th>\n",
       "      <td>s7407</td>\n",
       "      <td>TV Show</td>\n",
       "      <td>Maron</td>\n",
       "      <td>NaN</td>\n",
       "      <td>Marc Maron, Judd Hirsch, Josh Brener, Nora Zeh...</td>\n",
       "      <td>United States</td>\n",
       "      <td>NaN</td>\n",
       "      <td>2016</td>\n",
       "      <td>TV-MA</td>\n",
       "      <td>4 Seasons</td>\n",
       "      <td>TV Comedies</td>\n",
       "      <td>Marc Maron stars as Marc Maron, who interviews...</td>\n",
       "    </tr>\n",
       "    <tr>\n",
       "      <th>7847</th>\n",
       "      <td>s7848</td>\n",
       "      <td>TV Show</td>\n",
       "      <td>Red vs. Blue</td>\n",
       "      <td>NaN</td>\n",
       "      <td>Burnie Burns, Jason Saldaña, Gustavo Sorola, G...</td>\n",
       "      <td>United States</td>\n",
       "      <td>NaN</td>\n",
       "      <td>2015</td>\n",
       "      <td>NR</td>\n",
       "      <td>13 Seasons</td>\n",
       "      <td>TV Action &amp; Adventure, TV Comedies, TV Sci-Fi ...</td>\n",
       "      <td>This parody of first-person shooter games, mil...</td>\n",
       "    </tr>\n",
       "    <tr>\n",
       "      <th>8182</th>\n",
       "      <td>s8183</td>\n",
       "      <td>TV Show</td>\n",
       "      <td>The Adventures of Figaro Pho</td>\n",
       "      <td>NaN</td>\n",
       "      <td>Luke Jurevicius, Craig Behenna, Charlotte Haml...</td>\n",
       "      <td>Australia</td>\n",
       "      <td>NaN</td>\n",
       "      <td>2015</td>\n",
       "      <td>TV-Y7</td>\n",
       "      <td>2 Seasons</td>\n",
       "      <td>Kids' TV, TV Comedies</td>\n",
       "      <td>Imagine your worst fears, then multiply them: ...</td>\n",
       "    </tr>\n",
       "  </tbody>\n",
       "</table>\n",
       "</div>"
      ],
      "text/plain": [
       "     show_id     type                                        title director  \\\n",
       "6066   s6067  TV Show  A Young Doctor's Notebook and Other Stories      NaN   \n",
       "6174   s6175  TV Show              Anthony Bourdain: Parts Unknown      NaN   \n",
       "6795   s6796  TV Show                                      Frasier      NaN   \n",
       "6806   s6807  TV Show                                      Friends      NaN   \n",
       "6901   s6902  TV Show                              Gunslinger Girl      NaN   \n",
       "7196   s7197  TV Show                                     Kikoriki      NaN   \n",
       "7254   s7255  TV Show                          La Familia P. Luche      NaN   \n",
       "7406   s7407  TV Show                                        Maron      NaN   \n",
       "7847   s7848  TV Show                                 Red vs. Blue      NaN   \n",
       "8182   s8183  TV Show                 The Adventures of Figaro Pho      NaN   \n",
       "\n",
       "                                                   cast         country  \\\n",
       "6066  Daniel Radcliffe, Jon Hamm, Adam Godley, Chris...  United Kingdom   \n",
       "6174                                   Anthony Bourdain   United States   \n",
       "6795  Kelsey Grammer, Jane Leeves, David Hyde Pierce...   United States   \n",
       "6806  Jennifer Aniston, Courteney Cox, Lisa Kudrow, ...   United States   \n",
       "6901  Yuuka Nanri, Kanako Mitsuhashi, Eri Sendai, Am...           Japan   \n",
       "7196                                      Igor Dmitriev             NaN   \n",
       "7254  Eugenio Derbez, Consuelo Duval, Luis Manuel Áv...   United States   \n",
       "7406  Marc Maron, Judd Hirsch, Josh Brener, Nora Zeh...   United States   \n",
       "7847  Burnie Burns, Jason Saldaña, Gustavo Sorola, G...   United States   \n",
       "8182  Luke Jurevicius, Craig Behenna, Charlotte Haml...       Australia   \n",
       "\n",
       "     date_added  release_year rating    duration  \\\n",
       "6066        NaN          2013  TV-MA   2 Seasons   \n",
       "6174        NaN          2018  TV-PG   5 Seasons   \n",
       "6795        NaN          2003  TV-PG  11 Seasons   \n",
       "6806        NaN          2003  TV-14  10 Seasons   \n",
       "6901        NaN          2008  TV-14   2 Seasons   \n",
       "7196        NaN          2010   TV-Y   2 Seasons   \n",
       "7254        NaN          2012  TV-14   3 Seasons   \n",
       "7406        NaN          2016  TV-MA   4 Seasons   \n",
       "7847        NaN          2015     NR  13 Seasons   \n",
       "8182        NaN          2015  TV-Y7   2 Seasons   \n",
       "\n",
       "                                              listed_in  \\\n",
       "6066           British TV Shows, TV Comedies, TV Dramas   \n",
       "6174                                         Docuseries   \n",
       "6795                     Classic & Cult TV, TV Comedies   \n",
       "6806                     Classic & Cult TV, TV Comedies   \n",
       "6901                       Anime Series, Crime TV Shows   \n",
       "7196                                           Kids' TV   \n",
       "7254  International TV Shows, Spanish-Language TV Sh...   \n",
       "7406                                        TV Comedies   \n",
       "7847  TV Action & Adventure, TV Comedies, TV Sci-Fi ...   \n",
       "8182                              Kids' TV, TV Comedies   \n",
       "\n",
       "                                            description  \n",
       "6066  Set during the Russian Revolution, this comic ...  \n",
       "6174  This CNN original series has chef Anthony Bour...  \n",
       "6795  Frasier Crane is a snooty but lovable Seattle ...  \n",
       "6806  This hit sitcom follows the merry misadventure...  \n",
       "6901  On the surface, the Social Welfare Agency appe...  \n",
       "7196  A wacky rabbit and his gang of animal pals hav...  \n",
       "7254  This irreverent sitcom featues Ludovico, Feder...  \n",
       "7406  Marc Maron stars as Marc Maron, who interviews...  \n",
       "7847  This parody of first-person shooter games, mil...  \n",
       "8182  Imagine your worst fears, then multiply them: ...  "
      ]
     },
     "execution_count": 9,
     "metadata": {},
     "output_type": "execute_result"
    }
   ],
   "source": [
    "df[df['date_added'].isna()]"
   ]
  },
  {
   "cell_type": "markdown",
   "id": "28f67a74",
   "metadata": {},
   "source": [
    "Since it is difficult to find the date_added so I will drop these as they are only 10 rows."
   ]
  },
  {
   "cell_type": "code",
   "execution_count": 10,
   "id": "51e5c525",
   "metadata": {},
   "outputs": [],
   "source": [
    "df=df[df[\"date_added\"].notna()]"
   ]
  },
  {
   "cell_type": "code",
   "execution_count": 11,
   "id": "013df1b9",
   "metadata": {},
   "outputs": [
    {
     "data": {
      "text/html": [
       "<div>\n",
       "<style scoped>\n",
       "    .dataframe tbody tr th:only-of-type {\n",
       "        vertical-align: middle;\n",
       "    }\n",
       "\n",
       "    .dataframe tbody tr th {\n",
       "        vertical-align: top;\n",
       "    }\n",
       "\n",
       "    .dataframe thead th {\n",
       "        text-align: right;\n",
       "    }\n",
       "</style>\n",
       "<table border=\"1\" class=\"dataframe\">\n",
       "  <thead>\n",
       "    <tr style=\"text-align: right;\">\n",
       "      <th></th>\n",
       "      <th>show_id</th>\n",
       "      <th>type</th>\n",
       "      <th>title</th>\n",
       "      <th>director</th>\n",
       "      <th>cast</th>\n",
       "      <th>country</th>\n",
       "      <th>date_added</th>\n",
       "      <th>release_year</th>\n",
       "      <th>rating</th>\n",
       "      <th>duration</th>\n",
       "      <th>listed_in</th>\n",
       "      <th>description</th>\n",
       "    </tr>\n",
       "  </thead>\n",
       "  <tbody>\n",
       "  </tbody>\n",
       "</table>\n",
       "</div>"
      ],
      "text/plain": [
       "Empty DataFrame\n",
       "Columns: [show_id, type, title, director, cast, country, date_added, release_year, rating, duration, listed_in, description]\n",
       "Index: []"
      ]
     },
     "execution_count": 11,
     "metadata": {},
     "output_type": "execute_result"
    }
   ],
   "source": [
    "df[df['date_added'].isna()]"
   ]
  },
  {
   "cell_type": "markdown",
   "id": "f436bc3d",
   "metadata": {},
   "source": [
    "### *Fix \"country\" missing values*"
   ]
  },
  {
   "cell_type": "code",
   "execution_count": 12,
   "id": "293cb3f3",
   "metadata": {},
   "outputs": [],
   "source": [
    "df['country'] = df['country'].fillna(df['country'].mode()[0])"
   ]
  },
  {
   "cell_type": "markdown",
   "id": "26320cf6",
   "metadata": {},
   "source": [
    "There are some entry where \"country\" has multiple values. so i think i will add a new column with just the first one so we can check witch regions have more productions"
   ]
  },
  {
   "cell_type": "code",
   "execution_count": 13,
   "id": "3326210b",
   "metadata": {},
   "outputs": [
    {
     "data": {
      "text/plain": [
       "0    United States\n",
       "1     South Africa\n",
       "2    United States\n",
       "3    United States\n",
       "4            India\n",
       "Name: principal_country, dtype: object"
      ]
     },
     "execution_count": 13,
     "metadata": {},
     "output_type": "execute_result"
    }
   ],
   "source": [
    "# Lets retrieve just the first country\n",
    "df['principal_country'] = df['country'].apply(lambda x: x.split(\",\")[0])\n",
    "df['principal_country'].head()"
   ]
  },
  {
   "cell_type": "markdown",
   "id": "1535042e",
   "metadata": {},
   "source": [
    "### *Fix \"duration\" missing values*"
   ]
  },
  {
   "cell_type": "code",
   "execution_count": 14,
   "id": "589e5bbc",
   "metadata": {},
   "outputs": [
    {
     "data": {
      "text/html": [
       "<div>\n",
       "<style scoped>\n",
       "    .dataframe tbody tr th:only-of-type {\n",
       "        vertical-align: middle;\n",
       "    }\n",
       "\n",
       "    .dataframe tbody tr th {\n",
       "        vertical-align: top;\n",
       "    }\n",
       "\n",
       "    .dataframe thead th {\n",
       "        text-align: right;\n",
       "    }\n",
       "</style>\n",
       "<table border=\"1\" class=\"dataframe\">\n",
       "  <thead>\n",
       "    <tr style=\"text-align: right;\">\n",
       "      <th></th>\n",
       "      <th>show_id</th>\n",
       "      <th>type</th>\n",
       "      <th>title</th>\n",
       "      <th>director</th>\n",
       "      <th>cast</th>\n",
       "      <th>country</th>\n",
       "      <th>date_added</th>\n",
       "      <th>release_year</th>\n",
       "      <th>rating</th>\n",
       "      <th>duration</th>\n",
       "      <th>listed_in</th>\n",
       "      <th>description</th>\n",
       "      <th>principal_country</th>\n",
       "    </tr>\n",
       "  </thead>\n",
       "  <tbody>\n",
       "    <tr>\n",
       "      <th>5541</th>\n",
       "      <td>s5542</td>\n",
       "      <td>Movie</td>\n",
       "      <td>Louis C.K. 2017</td>\n",
       "      <td>Louis C.K.</td>\n",
       "      <td>Louis C.K.</td>\n",
       "      <td>United States</td>\n",
       "      <td>April 4, 2017</td>\n",
       "      <td>2017</td>\n",
       "      <td>74 min</td>\n",
       "      <td>NaN</td>\n",
       "      <td>Movies</td>\n",
       "      <td>Louis C.K. muses on religion, eternal love, gi...</td>\n",
       "      <td>United States</td>\n",
       "    </tr>\n",
       "    <tr>\n",
       "      <th>5794</th>\n",
       "      <td>s5795</td>\n",
       "      <td>Movie</td>\n",
       "      <td>Louis C.K.: Hilarious</td>\n",
       "      <td>Louis C.K.</td>\n",
       "      <td>Louis C.K.</td>\n",
       "      <td>United States</td>\n",
       "      <td>September 16, 2016</td>\n",
       "      <td>2010</td>\n",
       "      <td>84 min</td>\n",
       "      <td>NaN</td>\n",
       "      <td>Movies</td>\n",
       "      <td>Emmy-winning comedy writer Louis C.K. brings h...</td>\n",
       "      <td>United States</td>\n",
       "    </tr>\n",
       "    <tr>\n",
       "      <th>5813</th>\n",
       "      <td>s5814</td>\n",
       "      <td>Movie</td>\n",
       "      <td>Louis C.K.: Live at the Comedy Store</td>\n",
       "      <td>Louis C.K.</td>\n",
       "      <td>Louis C.K.</td>\n",
       "      <td>United States</td>\n",
       "      <td>August 15, 2016</td>\n",
       "      <td>2015</td>\n",
       "      <td>66 min</td>\n",
       "      <td>NaN</td>\n",
       "      <td>Movies</td>\n",
       "      <td>The comic puts his trademark hilarious/thought...</td>\n",
       "      <td>United States</td>\n",
       "    </tr>\n",
       "  </tbody>\n",
       "</table>\n",
       "</div>"
      ],
      "text/plain": [
       "     show_id   type                                 title    director  \\\n",
       "5541   s5542  Movie                       Louis C.K. 2017  Louis C.K.   \n",
       "5794   s5795  Movie                 Louis C.K.: Hilarious  Louis C.K.   \n",
       "5813   s5814  Movie  Louis C.K.: Live at the Comedy Store  Louis C.K.   \n",
       "\n",
       "            cast        country          date_added  release_year  rating  \\\n",
       "5541  Louis C.K.  United States       April 4, 2017          2017  74 min   \n",
       "5794  Louis C.K.  United States  September 16, 2016          2010  84 min   \n",
       "5813  Louis C.K.  United States     August 15, 2016          2015  66 min   \n",
       "\n",
       "     duration listed_in                                        description  \\\n",
       "5541      NaN    Movies  Louis C.K. muses on religion, eternal love, gi...   \n",
       "5794      NaN    Movies  Emmy-winning comedy writer Louis C.K. brings h...   \n",
       "5813      NaN    Movies  The comic puts his trademark hilarious/thought...   \n",
       "\n",
       "     principal_country  \n",
       "5541     United States  \n",
       "5794     United States  \n",
       "5813     United States  "
      ]
     },
     "execution_count": 14,
     "metadata": {},
     "output_type": "execute_result"
    }
   ],
   "source": [
    "df[df[\"duration\"].isna()]"
   ]
  },
  {
   "cell_type": "code",
   "execution_count": 15,
   "id": "1de75acf",
   "metadata": {},
   "outputs": [
    {
     "data": {
      "text/plain": [
       "0"
      ]
     },
     "execution_count": 15,
     "metadata": {},
     "output_type": "execute_result"
    }
   ],
   "source": [
    "duration_replacements = {\n",
    "    5541: '74 Min',\n",
    "    5794: '82 Min',\n",
    "    5813: '66 Min',\n",
    "}\n",
    "\n",
    "for id, time in duration_replacements.items():\n",
    "    df.iloc[id, 9] = time\n",
    "    \n",
    "df['rating'].isna().sum()"
   ]
  },
  {
   "cell_type": "code",
   "execution_count": 16,
   "id": "b62695a3",
   "metadata": {},
   "outputs": [
    {
     "data": {
      "text/plain": [
       "show_id                 0\n",
       "type                    0\n",
       "title                   0\n",
       "director             2624\n",
       "cast                  825\n",
       "country                 0\n",
       "date_added              0\n",
       "release_year            0\n",
       "rating                  0\n",
       "duration                0\n",
       "listed_in               0\n",
       "description             0\n",
       "principal_country       0\n",
       "dtype: int64"
      ]
     },
     "execution_count": 16,
     "metadata": {},
     "output_type": "execute_result"
    }
   ],
   "source": [
    "df.isna().sum()"
   ]
  },
  {
   "cell_type": "markdown",
   "id": "44b4ae63",
   "metadata": {},
   "source": [
    "Look up, I let field data to director and cast."
   ]
  },
  {
   "cell_type": "markdown",
   "id": "d8ee9ea9",
   "metadata": {},
   "source": [
    "### *Makesure no data duplicated*"
   ]
  },
  {
   "cell_type": "code",
   "execution_count": 17,
   "id": "bfa939ca",
   "metadata": {},
   "outputs": [
    {
     "data": {
      "text/html": [
       "<div>\n",
       "<style scoped>\n",
       "    .dataframe tbody tr th:only-of-type {\n",
       "        vertical-align: middle;\n",
       "    }\n",
       "\n",
       "    .dataframe tbody tr th {\n",
       "        vertical-align: top;\n",
       "    }\n",
       "\n",
       "    .dataframe thead th {\n",
       "        text-align: right;\n",
       "    }\n",
       "</style>\n",
       "<table border=\"1\" class=\"dataframe\">\n",
       "  <thead>\n",
       "    <tr style=\"text-align: right;\">\n",
       "      <th></th>\n",
       "      <th>show_id</th>\n",
       "      <th>type</th>\n",
       "      <th>title</th>\n",
       "      <th>director</th>\n",
       "      <th>cast</th>\n",
       "      <th>country</th>\n",
       "      <th>date_added</th>\n",
       "      <th>release_year</th>\n",
       "      <th>rating</th>\n",
       "      <th>duration</th>\n",
       "      <th>listed_in</th>\n",
       "      <th>description</th>\n",
       "      <th>principal_country</th>\n",
       "    </tr>\n",
       "  </thead>\n",
       "  <tbody>\n",
       "  </tbody>\n",
       "</table>\n",
       "</div>"
      ],
      "text/plain": [
       "Empty DataFrame\n",
       "Columns: [show_id, type, title, director, cast, country, date_added, release_year, rating, duration, listed_in, description, principal_country]\n",
       "Index: []"
      ]
     },
     "execution_count": 17,
     "metadata": {},
     "output_type": "execute_result"
    }
   ],
   "source": [
    "df[df['title'].duplicated(keep=\"last\")]"
   ]
  },
  {
   "cell_type": "code",
   "execution_count": 18,
   "id": "e0e061c6",
   "metadata": {},
   "outputs": [
    {
     "data": {
      "text/html": [
       "<div>\n",
       "<style scoped>\n",
       "    .dataframe tbody tr th:only-of-type {\n",
       "        vertical-align: middle;\n",
       "    }\n",
       "\n",
       "    .dataframe tbody tr th {\n",
       "        vertical-align: top;\n",
       "    }\n",
       "\n",
       "    .dataframe thead th {\n",
       "        text-align: right;\n",
       "    }\n",
       "</style>\n",
       "<table border=\"1\" class=\"dataframe\">\n",
       "  <thead>\n",
       "    <tr style=\"text-align: right;\">\n",
       "      <th></th>\n",
       "      <th>show_id</th>\n",
       "      <th>type</th>\n",
       "      <th>title</th>\n",
       "      <th>director</th>\n",
       "      <th>cast</th>\n",
       "      <th>country</th>\n",
       "      <th>date_added</th>\n",
       "      <th>release_year</th>\n",
       "      <th>rating</th>\n",
       "      <th>duration</th>\n",
       "      <th>listed_in</th>\n",
       "      <th>description</th>\n",
       "      <th>principal_country</th>\n",
       "    </tr>\n",
       "  </thead>\n",
       "  <tbody>\n",
       "  </tbody>\n",
       "</table>\n",
       "</div>"
      ],
      "text/plain": [
       "Empty DataFrame\n",
       "Columns: [show_id, type, title, director, cast, country, date_added, release_year, rating, duration, listed_in, description, principal_country]\n",
       "Index: []"
      ]
     },
     "execution_count": 18,
     "metadata": {},
     "output_type": "execute_result"
    }
   ],
   "source": [
    "df[df['title'].duplicated(keep=\"first\")]"
   ]
  },
  {
   "cell_type": "code",
   "execution_count": 19,
   "id": "0309e186",
   "metadata": {},
   "outputs": [
    {
     "name": "stdout",
     "output_type": "stream",
     "text": [
      "0\n"
     ]
    }
   ],
   "source": [
    "print(df.duplicated().sum()) #checking if there is any duplicate items"
   ]
  },
  {
   "cell_type": "markdown",
   "id": "419b45c8",
   "metadata": {},
   "source": [
    "Look up, the result is not data duplicated.."
   ]
  },
  {
   "cell_type": "markdown",
   "id": "4aecde5a",
   "metadata": {},
   "source": [
    "## **2. NETFLIX DATA IN GENERAL** <a name=\"2\"></a>"
   ]
  },
  {
   "cell_type": "markdown",
   "id": "eb52d90f",
   "metadata": {},
   "source": [
    "Before discussing about the Indonesian movies on netflix, I want to show you first about the data on netflix in general."
   ]
  },
  {
   "cell_type": "code",
   "execution_count": 20,
   "id": "45504597",
   "metadata": {},
   "outputs": [],
   "source": [
    "type = df['type'].value_counts()"
   ]
  },
  {
   "cell_type": "code",
   "execution_count": 21,
   "id": "f7583966",
   "metadata": {},
   "outputs": [
    {
     "data": {
      "image/png": "[encoded data removed]",
      "text/plain": [
       "<Figure size 576x576 with 1 Axes>"
      ]
     },
     "metadata": {
      "needs_background": "light"
     },
     "output_type": "display_data"
    }
   ],
   "source": [
    "plt.figure(figsize = (8,8))\n",
    "#plot for first chart\n",
    "sns.barplot(x = type.index.values, y = type)\n",
    "#adding text on the bar\n",
    "for i in range (type.shape[0]): \n",
    "    count = type[i]\n",
    "    plt.text(i, count-1.5, count, ha = 'center', va='top', color = 'black', fontsize = 18)\n",
    "\n",
    "#customizing chart\n",
    "plt.title('Type of Netflix Content on Number', fontsize = 15)\n",
    "plt.xlabel('Type', fontsize = 15)\n",
    "plt.ylabel('Frequency', fontsize = 15)\n",
    "plt.xticks(rotation=-0, ha ='left', fontsize = 12);"
   ]
  },
  {
   "cell_type": "code",
   "execution_count": 31,
   "id": "632d7b48",
   "metadata": {},
   "outputs": [
    {
     "data": {
      "image/png": "[encoded data removed]",
      "text/plain": [
       "<Figure size 576x576 with 1 Axes>"
      ]
     },
     "metadata": {},
     "output_type": "display_data"
    }
   ],
   "source": [
    "labels = ['TV Shows', 'Movies']\n",
    "colors = sns.color_palette('Set1')\n",
    "plt.figure(figsize=(8,8))\n",
    "plt.pie(df['type'].value_counts().sort_values(), labels = labels, colors = ['lightblue','royalblue'], autopct='%10.2f%%', explode=[0.05,0.05], startangle=90)\n",
    "plt.title(\"Type of Netflix Content on Percent\", size=16)\n",
    "plt.axis('equal')\n",
    "plt.show()\n"
   ]
  },
  {
   "cell_type": "markdown",
   "id": "8c789de7",
   "metadata": {},
   "source": [
    "we see, until the year 2021 there are 1631 movie titles (69.9%) and 2666 tv show titles (30.31%) on netflix., "
   ]
  },
  {
   "cell_type": "code",
   "execution_count": null,
   "id": "be6a2059",
   "metadata": {},
   "outputs": [],
   "source": [
    "df['country'].value_counts()[:100]"
   ]
  },
  {
   "cell_type": "markdown",
   "id": "2671005a",
   "metadata": {},
   "source": [
    "Top 15 Country which has most number of title and Indonesia is in the last position with 79 Titles."
   ]
  },
  {
   "cell_type": "code",
   "execution_count": null,
   "id": "25e23d38",
   "metadata": {},
   "outputs": [],
   "source": [
    "top15 = df['country'].value_counts()[:15]\n",
    "plt.figure(figsize = (15,8))\n",
    "#plot for first chart\n",
    "sns.barplot(x = top15.index.values, y = top15)\n",
    "#adding text on the bar\n",
    "for i in range (top15.shape[0]): \n",
    "    count = top15[i]\n",
    "    plt.text(i, count-1.5, count, ha = 'center', va='bottom', color = 'black', fontsize = 14)\n",
    "\n",
    "#customizing chart\n",
    "plt.title('Top 15 Country which has most number of title', fontsize = 15)\n",
    "plt.xlabel('Countries ', fontsize =15)\n",
    "plt.ylabel('Frequency', fontsize = 15)\n",
    "plt.xticks(rotation=-30, ha ='left', fontsize = 12);"
   ]
  },
  {
   "cell_type": "markdown",
   "id": "7ff52713",
   "metadata": {},
   "source": [
    "We can see that United States contribute the most number of titles movie and TV Show, followed by India, United Kingdom and Indonesia is in 15th position with 79 titles.\n"
   ]
  },
  {
   "cell_type": "markdown",
   "id": "200d3655",
   "metadata": {},
   "source": [
    "### *Indonesian Data Exploration*"
   ]
  },
  {
   "cell_type": "code",
   "execution_count": null,
   "id": "4aee641a",
   "metadata": {},
   "outputs": [],
   "source": [
    "df_indonesia=df[df['country']=='Indonesia']\n",
    "df_indonesia.head(10)"
   ]
  },
  {
   "cell_type": "markdown",
   "id": "73a46711",
   "metadata": {},
   "source": [
    "**Column explanations in Netflix dataset:**\n",
    "* show_id: unique ID for each movie\n",
    "* type: 'Movie' or 'TV Show' \n",
    "* title: official movie title\n",
    "* director: name of director\n",
    "* cast: list of actors' names in movie\n",
    "* country: country where the movie was produced\n",
    "* date_added: date that the movie was added to Netflix\n",
    "* release_year: year that the movie was originally released\n",
    "* rating: age rating of movie\n",
    "* duration: duration of the movie in minutes\n",
    "* listed_in: relevant genres of the movie\n",
    "* description: short description of the movie plot\n",
    "\n",
    "The only columns that I will be using here are title, release_year, listed_in and country as title and release_year are important identifiers, listed_in allows us to find the best movies from different genres and country allows us to find the best movies for each country."
   ]
  },
  {
   "cell_type": "code",
   "execution_count": null,
   "id": "23dc0343",
   "metadata": {},
   "outputs": [],
   "source": [
    "df_indonesia.shape"
   ]
  },
  {
   "cell_type": "code",
   "execution_count": null,
   "id": "85f93a54",
   "metadata": {},
   "outputs": [],
   "source": [
    "df_indonesia.nunique()"
   ]
  },
  {
   "cell_type": "code",
   "execution_count": null,
   "id": "cc5ecd1b",
   "metadata": {},
   "outputs": [],
   "source": [
    "df_indonesia.info()"
   ]
  },
  {
   "cell_type": "code",
   "execution_count": null,
   "id": "38407f62",
   "metadata": {},
   "outputs": [],
   "source": [
    "df_indonesia.isnull().sum()"
   ]
  },
  {
   "cell_type": "markdown",
   "id": "e188ac00",
   "metadata": {},
   "source": [
    "There're missing values for Indonesian data in director and cast, but this is relatively small and we can complete it\n"
   ]
  },
  {
   "cell_type": "markdown",
   "id": "e0df0c6a",
   "metadata": {},
   "source": [
    "## **3. WHAT IS THE NUMBER OF COMPARISONS FOR INDONESIAN TV SHOWS AND MOVIES  ?** <a name=\"3\"></a>"
   ]
  },
  {
   "cell_type": "code",
   "execution_count": null,
   "id": "e530954f",
   "metadata": {},
   "outputs": [],
   "source": [
    "df_indonesia['type'].value_counts()[:15]"
   ]
  },
  {
   "cell_type": "code",
   "execution_count": null,
   "id": "82f68263",
   "metadata": {},
   "outputs": [],
   "source": [
    "df_TVshow=df_indonesia[(df_indonesia['type']=='TV Show')][['show_id', 'type', 'title', 'director', 'cast','date_added',\n",
    "       'release_year', 'rating', 'duration', 'listed_in', 'description']] #  filter Movies data from dataset"
   ]
  },
  {
   "cell_type": "code",
   "execution_count": null,
   "id": "eae2e062",
   "metadata": {},
   "outputs": [],
   "source": [
    "df_TVshow.head()"
   ]
  },
  {
   "cell_type": "code",
   "execution_count": null,
   "id": "c0c6d827",
   "metadata": {},
   "outputs": [],
   "source": [
    "df_movie=df_indonesia[(df_indonesia['type']=='Movie')][['show_id', 'type', 'title', 'director', 'cast','date_added',\n",
    "       'release_year', 'rating', 'duration', 'listed_in', 'description']] #  filter Movies data from dataset"
   ]
  },
  {
   "cell_type": "code",
   "execution_count": null,
   "id": "ce844d2a",
   "metadata": {},
   "outputs": [],
   "source": [
    "df_movie.head ()"
   ]
  },
  {
   "cell_type": "code",
   "execution_count": null,
   "id": "cadd15af",
   "metadata": {},
   "outputs": [],
   "source": [
    "temp_df = df_indonesia\n",
    "plt.figure(figsize = (12,8))\n",
    "plt.style.use('seaborn-whitegrid')\n",
    "ax = sns.countplot(x = 'type', data = temp_df, palette = \"colorblind\")\n",
    "plt.title('Indonesian Movies Release Each Years' ,size=16)\n",
    "plt.xlabel('Type', size=14)\n",
    "plt.ylabel('Number of Titles', size=14)\n",
    "plt.xticks(rotation = 0)\n",
    "for p in ax.patches:\n",
    "    ax.annotate(int(p.get_height()), (p.get_x()+0.35, p.get_height()+0.25), va = 'bottom', color = 'black',fontsize =14)"
   ]
  },
  {
   "cell_type": "code",
   "execution_count": null,
   "id": "9421adfe",
   "metadata": {},
   "outputs": [],
   "source": [
    "labels = ['TV Shows', 'Movies']\n",
    "colors = sns.color_palette('Set2')\n",
    "plt.figure(figsize=(8,10))\n",
    "plt.pie(df_indonesia['type'].value_counts().sort_values(), labels = labels, colors = ['lightblue','royalblue'], autopct='%25.2f%%', explode=[0.1,0.1], startangle=90)\n",
    "plt.title(\"Type of Netflix Content Comparison\")\n",
    "plt.axis('equal')\n",
    "plt.show()\n",
    "print(\"\\n Indonesian dataset consists of 77 (97.47%)for Movies and 2 (2.53%) for TV Shows\")"
   ]
  },
  {
   "cell_type": "markdown",
   "id": "8b1df8e1",
   "metadata": {},
   "source": [
    "According to the above information, there are only two Indonesian TV shows playing on the netflix channel. The \"check the store next door\" was released in 2020 and \"Hati Perempuan\" was released in 2017, as for the Indonesian Movies there are many titles.\n",
    "\n",
    "So, I'll just take care of the Indonesian movies on netflix."
   ]
  },
  {
   "cell_type": "markdown",
   "id": "76745a96",
   "metadata": {},
   "source": [
    "## **4. HOW MANY INDONESIAN MOVIES WAS RELEASED EACH YEAR ON NETFLIX ?** <a name=\"4\"></a>"
   ]
  },
  {
   "cell_type": "code",
   "execution_count": null,
   "id": "9da3a6e0",
   "metadata": {},
   "outputs": [],
   "source": [
    "temp_df = df_indonesia[df_indonesia['type']=='Movie']\n",
    "\n",
    "plt.figure(figsize = (12,8))\n",
    "plt.style.use('seaborn-whitegrid')\n",
    "ax = sns.countplot(x = 'release_year', data = temp_df, palette = \"colorblind\")\n",
    "plt.title('Indonesian Movies Release Each Years' ,size=16)\n",
    "plt.xlabel('Year of Release', size=14)\n",
    "plt.ylabel('Number of Movies', size=14)\n",
    "plt.xticks(rotation = 45)\n",
    "for p in ax.patches:\n",
    "    ax.annotate(int(p.get_height()), (p.get_x()+0.25, p.get_height()+0.25), va = 'bottom', color = 'black')"
   ]
  },
  {
   "cell_type": "markdown",
   "id": "e5aa7ef3",
   "metadata": {},
   "source": [
    "The above graph shows most Indonesian movies released in 2018 and 2020"
   ]
  },
  {
   "cell_type": "markdown",
   "id": "700ba825",
   "metadata": {},
   "source": [
    "## **5. HOW MANY INDONESIAN MOVIES RATING & GENRE ARE THERE ON NETFLIX ?**<a name=\"5\"></a>"
   ]
  },
  {
   "cell_type": "markdown",
   "id": "82ae6e74",
   "metadata": {},
   "source": [
    "### *Indonesian Movies Rating*"
   ]
  },
  {
   "cell_type": "code",
   "execution_count": null,
   "id": "ba00bd2f",
   "metadata": {},
   "outputs": [],
   "source": [
    "temp_df = df_indonesia[df_indonesia['type']=='Movie'] ##filter movie\n",
    "temp_df['rating'].value_counts()[:15] "
   ]
  },
  {
   "cell_type": "code",
   "execution_count": null,
   "id": "feb491ef",
   "metadata": {},
   "outputs": [],
   "source": [
    "plt.figure(figsize=(10,10))\n",
    "ax = sns.countplot(x=\"rating\", data=temp_df, palette = \"pastel\", order=df_indonesia['rating'].value_counts().index[0:15])\n",
    "plt.xlabel('RATING', fontsize = 14)\n",
    "plt.ylabel('NUMBER of TITLES', fontsize = 14)\n",
    "plt.title('Rating of Indonesian Movies in Netflix', size = 16)\n",
    "for p in ax.patches:\n",
    "    ax.annotate(int(p.get_height()), (p.get_x()+0.35, p.get_height()+1), fontsize = 14, va = 'top', color = 'black')"
   ]
  },
  {
   "cell_type": "code",
   "execution_count": null,
   "id": "de2831b7",
   "metadata": {},
   "outputs": [],
   "source": [
    "z = temp_df.groupby(['rating']).size().reset_index(name = 'counts')\n",
    "#Visualize the results\n",
    "piechart = px.pie(z, values = 'counts', names = 'rating', \n",
    "                  title = 'Distribution of the content ratings on Netflix',\n",
    "                 color_discrete_sequence = px.colors.qualitative.Set3)\n",
    "piechart.show()"
   ]
  },
  {
   "cell_type": "markdown",
   "id": "ac4c0912",
   "metadata": {},
   "source": [
    "### Rate reference  \n",
    "Let’s look at the definitions of the different ratings according to [http://www.tvguidelines.org/](“http://www.tvguidelines.org/resources/TV_Parental_guidelines_Brochure.pdf”)\n",
    "\n",
    "\n",
    "<center> Table: Meaning of the different ratings </center>\n",
    "\n",
    "|     Rating      |     Meaning                                                                                                                                        |\n",
    "|-----------------|----------------------------------------------------------------------------------------------------------------------------------------------------|\n",
    "|     NC-17       |     No One 17 and Under Admitted. Clearly adult. Young children will not be admitted to   watch the film.                                          |\n",
    "|     TV-Y7-FV    |     Is used to indicate that a program contains “fantasy   violence” that may be more intense or combative than other TV-Y7 programs.    |\n",
    "|     UR          |     Unrated                                                                                                                                        |\n",
    "|     G           |     Most parents would find this program suitable for all ages.                                                                                  |\n",
    "|     NR          |     Not Rated                                                                                                                                      |\n",
    "|     TV-Y7       |     This program is designed for children age 7 and above.                                                                                         |\n",
    "|     TV-G        |     This program is designed for children age 7 and above.                                                                                         |\n",
    "|     TV-Y        |     This program is designed to be appropriate for all   children                                                                                  |\n",
    "|     PG          |     This program contains material that parents may find   unsuitable for younger children.                                                        |\n",
    "|     PG-13       |     Some material may be inappropriate for   children under 13                                                                                     |\n",
    "|     TV-PG       |     This program contains material that parents may find   unsuitable for younger children.                                                        |\n",
    "|     R           |     Children Under 17 Require Accompanying Parent or Adult Guardian                                                                                |\n",
    "|     TV-14       |     This   program contains some material that many parents would find unsuitable for   children under 14 years of     age.                        |\n",
    "|     TV-MA       |     This   program is specifically designed to be viewed by adults and therefore may be unsuitable   for children     under 17                     |\n",
    "\n",
    "\n",
    "<n> </n>  \n",
    "The above graph shows the number of Indonesian movies in the data frame for each rating. There are three top rankings, namely program contains some material that many parents would find unsuitable for children under 14 years of age (TV-14) has 33 of titles (42.9%), program contains material that parents may find unsuitable for younger children (TV-PG) has 20 of titles (26%), and program is specifically designed to be viewed by adults and therefore may be unsuitable for children     under 17 years of age (TV-MA) has 14 of titles (18.2%). \n",
    "\n"
   ]
  },
  {
   "cell_type": "markdown",
   "id": "81707a7f",
   "metadata": {},
   "source": [
    "### *Indonesian Movies Genre*"
   ]
  },
  {
   "cell_type": "code",
   "execution_count": null,
   "id": "d9756551",
   "metadata": {},
   "outputs": [],
   "source": [
    "listed_in_count = temp_df.copy()\n",
    "listed_in_count = pd.concat([listed_in_count, temp_df[\"listed_in\"].str.split(\",\", expand = True)], axis = 1)\n",
    "listed_in_count"
   ]
  },
  {
   "cell_type": "code",
   "execution_count": null,
   "id": "ef351a55",
   "metadata": {},
   "outputs": [],
   "source": [
    "listed_in_count = listed_in_count.melt(id_vars = [\"type\", \"title\"], value_vars = range(3), value_name = \"listed_in\")\n",
    "listed_in_count = listed_in_count[listed_in_count[\"listed_in\"].notna()]\n",
    "listed_in_count"
   ]
  },
  {
   "cell_type": "code",
   "execution_count": null,
   "id": "b2a5ac92",
   "metadata": {},
   "outputs": [],
   "source": [
    "listed_in_count[\"listed_in\"].unique()"
   ]
  },
  {
   "cell_type": "code",
   "execution_count": null,
   "id": "d4274a37",
   "metadata": {},
   "outputs": [],
   "source": [
    "temp_df[\"listed_in\"].value_counts()"
   ]
  },
  {
   "cell_type": "code",
   "execution_count": null,
   "id": "61304479",
   "metadata": {},
   "outputs": [],
   "source": [
    "plt.figure(figsize = (20, 8))\n",
    "listed_in = listed_in_count[\"listed_in\"].value_counts()[:15]\n",
    "sns.barplot(x = listed_in, y = listed_in.index, palette = \"Dark2\")\n",
    "\n",
    "plt.title('Movies Genre From Indonesia in Netflix',size=16)\n",
    "plt.xlabel('NUMBER Of TITLES', size=14)\n",
    "plt.ylabel('GENRE', size=14)\n",
    "plt.xticks(rotation = 45)\n",
    "for p in ax.patches:\n",
    "    ax.annotate(int(p.get_height()), (p.get_x()+0.25, p.get_height()+0.25), va = 'bottom', color = 'black')"
   ]
  },
  {
   "cell_type": "markdown",
   "id": "cf54c0f1",
   "metadata": {},
   "source": [
    "There are 14 genres of Indonesian movies on Netflix, but the most dominant are international movies, dramas and romantic movies."
   ]
  },
  {
   "cell_type": "markdown",
   "id": "b07a335d",
   "metadata": {},
   "source": [
    "## **6.WHO ARE THE MOVIE DIRECTORS & ACTORS FROM INDONESIA ?** <a name=\"6\"></a>"
   ]
  },
  {
   "cell_type": "markdown",
   "id": "fcc2d9b7",
   "metadata": {},
   "source": [
    "### *Movies Directors*"
   ]
  },
  {
   "cell_type": "code",
   "execution_count": null,
   "id": "59cac1f6",
   "metadata": {},
   "outputs": [],
   "source": [
    "temp_df = df_indonesia[df_indonesia['type']=='Movie'] ##filter movie\n",
    "temp_df['director'].value_counts() "
   ]
  },
  {
   "cell_type": "code",
   "execution_count": null,
   "id": "9221a2f0",
   "metadata": {},
   "outputs": [],
   "source": [
    "temp_df = df_indonesia[df_indonesia['type']=='Movie']\n",
    "\n",
    "plt.figure(figsize = (15, 8))\n",
    "ax = sns.countplot(y=\"director\", data=temp_df, palette = \"colorblind\",order=temp_df['director'].value_counts().index[0:10])\n",
    "plt.title('Top 10 Movie Directors From Indonesia',size=16)\n",
    "plt.xlabel('TITLES',size=12)\n",
    "plt.ylabel('DIRECTORS', size=12)\n",
    "plt.show()"
   ]
  },
  {
   "cell_type": "markdown",
   "id": "e875e3d8",
   "metadata": {},
   "source": [
    "### *Actors*"
   ]
  },
  {
   "cell_type": "code",
   "execution_count": null,
   "id": "d535af95",
   "metadata": {},
   "outputs": [],
   "source": [
    "cast_count = temp_df.copy()\n",
    "cast_count = pd.concat([cast_count, temp_df[\"cast\"].str.split(\",\", expand = True)], axis = 1)\n",
    "cast_count"
   ]
  },
  {
   "cell_type": "code",
   "execution_count": null,
   "id": "70d2345c",
   "metadata": {},
   "outputs": [],
   "source": [
    "cast_count = cast_count.melt(id_vars = [\"type\", \"title\"], value_vars = range(10), value_name = \"cast\")\n",
    "cast_count = cast_count[cast_count[\"cast\"].notna()]\n",
    "cast_count"
   ]
  },
  {
   "cell_type": "code",
   "execution_count": null,
   "id": "e88255c6",
   "metadata": {},
   "outputs": [],
   "source": [
    "cast_count[\"cast\"].nunique()"
   ]
  },
  {
   "cell_type": "code",
   "execution_count": null,
   "id": "e7da053e",
   "metadata": {},
   "outputs": [],
   "source": [
    "plt.figure(figsize = (12, 8))\n",
    "cast = cast_count[\"cast\"].value_counts()[:10]\n",
    "sns.barplot(x = cast, y = cast.index, palette = \"gist_ncar\")\n",
    "plt.title('Top 10 Actor From Indonesia',size=16)\n",
    "plt.xlabel('CASTING', size=14)\n",
    "plt.ylabel('NAME', size=14)\n",
    "plt.xticks(rotation = 45)\n",
    "for p in ax.patches:\n",
    "    ax.annotate(int(p.get_height()), (p.get_x()+0.25, p.get_height()+0.25), va = 'bottom', color = 'black')"
   ]
  },
  {
   "cell_type": "markdown",
   "id": "c5fcc9fd",
   "metadata": {},
   "source": [
    "## **7. CONCLUSION** <a name=\"7\"></a>"
   ]
  },
  {
   "cell_type": "code",
   "execution_count": null,
   "id": "b7b9b1b4",
   "metadata": {},
   "outputs": [],
   "source": []
  },
  {
   "cell_type": "markdown",
   "id": "9f73bdf4",
   "metadata": {},
   "source": [
    "## *Reference*"
   ]
  },
  {
   "cell_type": "code",
   "execution_count": null,
   "id": "f5ab7c39",
   "metadata": {},
   "outputs": [],
   "source": []
  }
 ],
 "metadata": {
  "kernelspec": {
   "display_name": "Python 3 (ipykernel)",
   "language": "python",
   "name": "python3"
  },
  "language_info": {
   "codemirror_mode": {
    "name": "ipython",
    "version": 3
   },
   "file_extension": ".py",
   "mimetype": "text/x-python",
   "name": "python",
   "nbconvert_exporter": "python",
   "pygments_lexer": "ipython3",
   "version": "3.9.12"
  }
 },
 "nbformat": 4,
 "nbformat_minor": 5
}
